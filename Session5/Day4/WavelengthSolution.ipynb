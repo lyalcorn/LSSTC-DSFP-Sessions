{
 "cells": [
  {
   "cell_type": "code",
   "execution_count": 28,
   "metadata": {},
   "outputs": [],
   "source": [
    "import os\n",
    "import re\n",
    "import numpy as np\n",
    "import matplotlib.pyplot as plt\n",
    "\n",
    "from rhlUtils import imshow, makePsf\n",
    "\n",
    "%matplotlib notebook \n",
    "%config InlineBackend.figure_format = 'retina'\n",
    "\n",
    "#%matplotlib qt\n",
    "#%gui qt\n",
    "\n",
    "dataDir = \"\""
   ]
  },
  {
   "cell_type": "markdown",
   "metadata": {},
   "source": [
    "Read the data.  There are three items in the pickle:\n",
    "\n",
    "- The data (a dict indexed by \"fiberId\" containing numpy arrays):\n",
    " - pixelPos           Measured centroid of an arc line (pixels)\n",
    " - pixelPosErr        Error in pixelPos\n",
    " - refWavelength      Nominal wavelength (from NIST)\n",
    " - modelFitWavelength Wavelength corresponding to pixelPos, based on instrument model\n",
    " - status             bitwise OR of flags (see statusFlags)\n",
    "- A dict giving the meaning of the status bits\n",
    "- An linear approximation to the wavelength solution:  wavelength = wavelength0 + nmPerPix*i"
   ]
  },
  {
   "cell_type": "code",
   "execution_count": 2,
   "metadata": {},
   "outputs": [],
   "source": [
    "import pickle\n",
    "\n",
    "with open(os.path.join(dataDir, \"arclines.pickle\"), \"rb\") as fd:\n",
    "    data, statusFlags, (wavelength0, nmPerPix) = pickle.load(fd)"
   ]
  },
  {
   "cell_type": "markdown",
   "metadata": {},
   "source": [
    "Plot some of the data.  A good place to start would be the pixel position (pixelPos) and the reference wavelength (refWavelength) for a fibre, then use wavelength0 and nmPerPix to construct an approximate (linear) wavelength solution and look at the residuals."
   ]
  },
  {
   "cell_type": "code",
   "execution_count": 14,
   "metadata": {},
   "outputs": [],
   "source": [
    "fiberId = 5\n",
    "assert fiberId in data, \"Unknown fiberId: %d\" % fiberId\n",
    "pixelPos = data[5]['pixelPos']\n",
    "\n",
    "# ..."
   ]
  },
  {
   "cell_type": "markdown",
   "metadata": {},
   "source": [
    "Take a look at the statusFlags and the values of status from your fibre.  You probably want to ignore some of the data (Hint: I muttered about bad lines in the lecture)"
   ]
  },
  {
   "cell_type": "code",
   "execution_count": 1,
   "metadata": {},
   "outputs": [],
   "source": [
    "#..."
   ]
  },
  {
   "cell_type": "markdown",
   "metadata": {},
   "source": [
    "Let's concentrate on just one fiber for now; choose a fibre, any fibre.  We want to fit a better model of the wavelength solution.  The CCD has 4096 rows, and we want a solution valid over all of them.\n",
    "\n",
    "Experiment with a range of order of fitter, and look at the rms error in the wavelength solution.  You can look at $\\chi^2/\\nu$ too, if you like, but I think you'll find that the centroiding errors are wrong.\n",
    "\n",
    "You probably want to look at the fit and at the residuals from the fit."
   ]
  },
  {
   "cell_type": "code",
   "execution_count": 2,
   "metadata": {},
   "outputs": [],
   "source": [
    "import numpy.polynomial.chebyshev\n",
    "myFiberId = 315\n",
    "\n",
    "nrow = 4096\n",
    "fitOrder = 2\n",
    "\n",
    "# ..."
   ]
  },
  {
   "cell_type": "markdown",
   "metadata": {},
   "source": [
    "Now repeat the preceeding exercise using the model of the spectrograph (i.e. the modelFitWavelength not your linear approximation).  What order of polynomial is needed now?"
   ]
  },
  {
   "cell_type": "markdown",
   "metadata": {},
   "source": [
    "Is that rms error honest, or are we overfitting?  Modify your code to hold back some number of arclines from the fit and measure the rms only of those ones."
   ]
  },
  {
   "cell_type": "markdown",
   "metadata": {},
   "source": [
    "If this was all\n",
    "\n",
    "I was nice and gave you clean (but real) data.  In the real world you'd probably want to do an n-sigma clip on the residuals and iterate.  Implement this."
   ]
  }
 ],
 "metadata": {
  "kernelspec": {
   "display_name": "Python 3",
   "language": "python",
   "name": "python3"
  },
  "language_info": {
   "codemirror_mode": {
    "name": "ipython",
    "version": 3
   },
   "file_extension": ".py",
   "mimetype": "text/x-python",
   "name": "python",
   "nbconvert_exporter": "python",
   "pygments_lexer": "ipython3",
   "version": "3.6.4"
  }
 },
 "nbformat": 4,
 "nbformat_minor": 2
}
