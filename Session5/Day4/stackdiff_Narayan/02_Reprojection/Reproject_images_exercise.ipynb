{
 "cells": [
  {
   "cell_type": "markdown",
   "metadata": {},
   "source": [
    "# Image Reprojection Exercise\n",
    "#### Written by Gautham Narayan (gnarayan@stsci.edu) for LSST DSFP #5\n",
    "\n",
    "### We've already determined the WCS solution for two misalgined images in Exercise 1 using `astrometry.net` (`Register_images_exercise.ipynb`). Now we're going to reproject the images onto the same grid."
   ]
  },
  {
   "cell_type": "code",
   "execution_count": 1,
   "metadata": {},
   "outputs": [
    {
     "name": "stdout",
     "output_type": "stream",
     "text": [
      "Using matplotlib backend: nbAgg\n",
      "Populating the interactive namespace from numpy and matplotlib\n"
     ]
    }
   ],
   "source": [
    "import numpy as np\n",
    "import matplotlib\n",
    "import astropy.io.fits as afits\n",
    "from astropy.wcs import WCS\n",
    "import reproject\n",
    "from astropy.visualization import ZScaleInterval\n",
    "import astropy.table as at\n",
    "import astropy.coordinates as coords\n",
    "import astropy.units as u\n",
    "from astropy.visualization.wcsaxes import WCSAxes\n",
    "import astropy.visualization.wcsaxes.frame as frame\n",
    "\n",
    "%matplotlib notebook\n",
    "%pylab"
   ]
  },
  {
   "cell_type": "markdown",
   "metadata": {},
   "source": [
    "### If you didn't get through Exercise 1, that's OK! I saved my output! You can just use that if you'd like and press on!"
   ]
  },
  {
   "cell_type": "code",
   "execution_count": 2,
   "metadata": {},
   "outputs": [
    {
     "name": "stdout",
     "output_type": "stream",
     "text": [
      "original_misalignment.pdf           wdd7.080104_0214.1025_6-indx.png\r\n",
      "wdd7.040920_0452.051_6-indx.png     wdd7.080104_0214.1025_6-indx.xyls\r\n",
      "wdd7.040920_0452.051_6-indx.xyls    wdd7.080104_0214.1025_6-ngc.png\r\n",
      "wdd7.040920_0452.051_6-ngc.png      wdd7.080104_0214.1025_6-objs.png\r\n",
      "wdd7.040920_0452.051_6-objs.png     wdd7.080104_0214.1025_6.axy\r\n",
      "wdd7.040920_0452.051_6.axy          wdd7.080104_0214.1025_6.corr\r\n",
      "wdd7.040920_0452.051_6.corr         wdd7.080104_0214.1025_6.match\r\n",
      "wdd7.040920_0452.051_6.match        wdd7.080104_0214.1025_6.rdls\r\n",
      "wdd7.040920_0452.051_6.rdls         wdd7.080104_0214.1025_6.solved\r\n",
      "wdd7.040920_0452.051_6.solved       wdd7.080104_0214.1025_6.solved.fits\r\n",
      "wdd7.040920_0452.051_6.solved.fits  wdd7.080104_0214.1025_6.wcs\r\n",
      "wdd7.040920_0452.051_6.wcs          wdd7.080104_0214.1025_6.wcs.tan\r\n",
      "wdd7.040920_0452.051_6.wcs.tan\r\n"
     ]
    }
   ],
   "source": [
    "!ls ../01_Registration/out/"
   ]
  },
  {
   "cell_type": "markdown",
   "metadata": {},
   "source": [
    "### Open the two images and load the wcs solution that you created in the tangent plane (I used `wcs.tan` as my file extension)"
   ]
  },
  {
   "cell_type": "code",
   "execution_count": null,
   "metadata": {},
   "outputs": [],
   "source": [
    "#### You get to do this ####"
   ]
  },
  {
   "cell_type": "markdown",
   "metadata": {},
   "source": [
    "### OK, now reproject the data of the 2008 image on to the 2004 image. Look for functions in the `reproject` module. Remember to keep flux conservation in mind!"
   ]
  },
  {
   "cell_type": "code",
   "execution_count": null,
   "metadata": {},
   "outputs": [],
   "source": [
    "#### You get to do this ####"
   ]
  },
  {
   "cell_type": "markdown",
   "metadata": {},
   "source": [
    "### Now display the two images as you did in the last exercise - you should be able to copy and paste the same code even"
   ]
  },
  {
   "cell_type": "code",
   "execution_count": null,
   "metadata": {},
   "outputs": [],
   "source": [
    "#### You get to do this ####"
   ]
  },
  {
   "cell_type": "markdown",
   "metadata": {},
   "source": [
    "### Hopefully that's halfway reasonable looking compared to what we started from! For funsies, scale both images to have mean 1 and attempt to subtract them. Remember than there are `NaNs` in the reprojected image!"
   ]
  },
  {
   "cell_type": "code",
   "execution_count": null,
   "metadata": {},
   "outputs": [],
   "source": [
    "#### You get to do this. You can look for NaNs in the image, or the reproject functions should return a footprint ####"
   ]
  },
  {
   "cell_type": "markdown",
   "metadata": {},
   "source": [
    "### Now construct a simple difference image from the original data"
   ]
  },
  {
   "cell_type": "code",
   "execution_count": null,
   "metadata": {},
   "outputs": [],
   "source": [
    "#### You get to do this ####"
   ]
  },
  {
   "cell_type": "markdown",
   "metadata": {},
   "source": [
    "### Create a figure instance, zscale the differences and see what the residuals look like"
   ]
  },
  {
   "cell_type": "code",
   "execution_count": null,
   "metadata": {},
   "outputs": [],
   "source": [
    "#### You get to do this ####"
   ]
  }
 ],
 "metadata": {
  "kernelspec": {
   "display_name": "Python (dsfp5)",
   "language": "python",
   "name": "dsfp5"
  },
  "language_info": {
   "codemirror_mode": {
    "name": "ipython",
    "version": 3
   },
   "file_extension": ".py",
   "mimetype": "text/x-python",
   "name": "python",
   "nbconvert_exporter": "python",
   "pygments_lexer": "ipython3",
   "version": "3.6.4"
  }
 },
 "nbformat": 4,
 "nbformat_minor": 2
}
