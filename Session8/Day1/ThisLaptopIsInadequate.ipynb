{
 "cells": [
  {
   "cell_type": "code",
   "execution_count": 1,
   "metadata": {
    "collapsed": true,
    "slideshow": {
     "slide_type": "skip"
    }
   },
   "outputs": [],
   "source": [
    "import numpy as np\n",
    "import pandas as pd\n",
    "import matplotlib.pyplot as plt\n",
    "\n",
    "%matplotlib notebook"
   ]
  },
  {
   "cell_type": "markdown",
   "metadata": {
    "slideshow": {
     "slide_type": "slide"
    }
   },
   "source": [
    "# This Laptop Is Inadequate:\n",
    "# An Aperitif for DSFP Session 8\n",
    "\n",
    "**Version 0.1**\n",
    "\n",
    "By AA Miller 2019 Mar 24"
   ]
  },
  {
   "cell_type": "markdown",
   "metadata": {
    "slideshow": {
     "slide_type": "slide"
    }
   },
   "source": [
    "When I think about LSST there are a few numbers that always stick in my head: \n",
    "\n",
    "  -  37 billion (the total number of sources that will be detected by LSST)\n",
    "  -  10 (the number of years for the baseline survey)\n",
    "  -  1000 (~the number of observations per source)\n",
    "  -  37 trillion ($37 \\times 10^9 \\times 10^4$ = the total number of source observations)"
   ]
  },
  {
   "cell_type": "markdown",
   "metadata": {
    "slideshow": {
     "slide_type": "slide"
    }
   },
   "source": [
    "These numbers are *eye-popping*, though the truth is that there are now several astronomical databases that have $\\sim{10^9}$ sources (e.g., PanSTARRS-1, which we will hear more about later today). \n",
    "\n",
    "A pressing question, for current and future surveys, is: how are we going to deal with all that data?"
   ]
  },
  {
   "cell_type": "markdown",
   "metadata": {
    "slideshow": {
     "slide_type": "slide"
    }
   },
   "source": [
    "If you're anything like me - then, you love your laptop. \n",
    "\n",
    "And if you had it your way, you wouldn't need anything but your laptop... ever.\n",
    "\n",
    "But is that practical?"
   ]
  },
  {
   "cell_type": "markdown",
   "metadata": {
    "slideshow": {
     "slide_type": "slide"
    }
   },
   "source": [
    "## Problem 1) The Inadequacy of Laptops"
   ]
  },
  {
   "cell_type": "markdown",
   "metadata": {
    "slideshow": {
     "slide_type": "slide"
    }
   },
   "source": [
    "**Problem 1a**\n",
    "\n",
    "Suppose you could describe every source detected by LSST with a single number. Assuming you are on a computer with a 64 bit architecture, to within an order of magnitude, how much RAM would you need to store every LSST source within your laptop's memory?\n",
    "\n",
    "*Bonus question* - can you think of a single number to describe every source in LSST that could produce a meaningful science result?\n",
    "\n",
    "*Take a minute to discuss with your partner*"
   ]
  },
  {
   "cell_type": "markdown",
   "metadata": {
    "slideshow": {
     "slide_type": "slide"
    }
   },
   "source": [
    "**Solution 1a**\n"
   ]
  },
  {
   "cell_type": "markdown",
   "metadata": {
    "slideshow": {
     "slide_type": "slide"
    }
   },
   "source": [
    "As for a single number to perform useful science, I can think of two. \n",
    "\n",
    "First - you could generate a [heirarchical triangular mesh](http://www.skyserver.org/HTM/) with enough trixels to characterize every LSST resolution element on the night sky. Then you could assign a number to each trixel, and describe the position of every source in LSST with a single number. Under the assumption that every source detected by LSST is a galaxy, this is not a terrible assumption, you could look at the clustering of these positions to (potentially) learn things about structure formation or galaxy formation (though without redshifts you may not learn all that much).\n",
    "\n",
    "The other number is the flux (or magnitude) of every source in a single filter. Again, under the assumption that everything is a galaxy, the number counts (i.e. a histogram) of the flux measurements tells you a bit about the Universe. "
   ]
  },
  {
   "cell_type": "markdown",
   "metadata": {
    "slideshow": {
     "slide_type": "slide"
    }
   },
   "source": [
    "It probably isn't a shock that you won't be able to analyze every individual LSST source on your laptop."
   ]
  },
  {
   "cell_type": "markdown",
   "metadata": {
    "slideshow": {
     "slide_type": "subslide"
    }
   },
   "source": [
    "But that raises the question - how should you analyze LSST data?\n",
    "\n",
    "  -  By buying a large desktop?\n",
    "  -  On a local or national supercomputer?\n",
    "  -  In the cloud?\n",
    "  -  On computers that LSST hosts/maintains?"
   ]
  },
  {
   "cell_type": "markdown",
   "metadata": {
    "slideshow": {
     "slide_type": "subslide"
    }
   },
   "source": [
    "But that raises the question - how should you analyze LSST data?\n",
    "\n",
    "  -  By buying a large desktop? (impractical to ask of everyone working on LSST)\n",
    "  -  On a local supercomputer? (not a bad idea, but not necessarily equitable)\n",
    "  -  In the cloud? (AWS is expensive)\n",
    "  -  On computers that LSST hosts/maintains? (probably the most fair, but this also has challenges)"
   ]
  },
  {
   "cell_type": "markdown",
   "metadata": {
    "slideshow": {
     "slide_type": "subslide"
    }
   },
   "source": [
    "We will discuss some of these issues a bit later in the week..."
   ]
  },
  {
   "cell_type": "markdown",
   "metadata": {
    "slideshow": {
     "slide_type": "slide"
    }
   },
   "source": [
    "## Problem 2) Laptop or Not You Should Be Worried About the Data"
   ]
  },
  {
   "cell_type": "markdown",
   "metadata": {
    "slideshow": {
     "slide_type": "slide"
    }
   },
   "source": [
    "### Pop quiz\n",
    "\n",
    "We will now re-visit a question from a previous session:"
   ]
  },
  {
   "cell_type": "markdown",
   "metadata": {
    "slideshow": {
     "slide_type": "subslide"
    }
   },
   "source": [
    "**Problem 2a**\n",
    "\n",
    "What is data?\n",
    "\n",
    "*Take a minute to discuss with your partner*"
   ]
  },
  {
   "cell_type": "markdown",
   "metadata": {
    "slideshow": {
     "slide_type": "subslide"
    }
   },
   "source": [
    "**Solution 2a**\n",
    "\n"
   ]
  },
  {
   "cell_type": "markdown",
   "metadata": {
    "slideshow": {
     "slide_type": "subslide"
    }
   },
   "source": [
    "This leads to another question: \n",
    "\n",
    "Q - What is the defining property of a constant?"
   ]
  },
  {
   "cell_type": "markdown",
   "metadata": {
    "slideshow": {
     "slide_type": "subslide"
    }
   },
   "source": [
    "A - They don't change."
   ]
  },
  {
   "cell_type": "markdown",
   "metadata": {
    "slideshow": {
     "slide_type": "slide"
    }
   },
   "source": [
    "If data are constants, and constants don't change, then we should probably be sure that our data storage solutions do not alter the data in any way. "
   ]
  },
  {
   "cell_type": "markdown",
   "metadata": {
    "slideshow": {
     "slide_type": "subslide"
    }
   },
   "source": [
    "Within the data science community, the python [`pandas`](https://pandas.pydata.org/) package is particularly popular for reading, writing, and manipulating data (we will talk more about the utility of `pandas` later). \n",
    "\n",
    "The `pandas` docs state the `read_csv()` method is the [workhorse function for reading text files](http://pandas.pydata.org/pandas-docs/stable/user_guide/io.html#csv-text-files). Let's now take a look at how well this workhorse \"maintains the constant nature of data\". "
   ]
  },
  {
   "cell_type": "markdown",
   "metadata": {
    "slideshow": {
     "slide_type": "slide"
    }
   },
   "source": [
    "**Problem 2b**\n",
    "\n",
    "Create a `numpy` array, called `nums`, of length 10000 filled with random numbers. Create a `pandas` `Series` object, called `s`, based on that array, and then write the `Series` to a file called `tmp.txt` using the `to_csv()` method.\n",
    "\n",
    "*Hint* - you'll need to name the `Series` and add the `header=True` option to the `to_csv()` call."
   ]
  },
  {
   "cell_type": "code",
   "execution_count": 3,
   "metadata": {
    "collapsed": false,
    "slideshow": {
     "slide_type": "subslide"
    }
   },
   "outputs": [
    {
     "name": "stdout",
     "output_type": "stream",
     "text": [
      "0       0.685363\n",
      "1       0.703567\n",
      "2       0.789098\n",
      "3       0.237508\n",
      "4       0.542544\n",
      "5       0.801410\n",
      "6       0.360204\n",
      "7       0.084990\n",
      "8       0.315241\n",
      "9       0.707544\n",
      "10      0.998567\n",
      "11      0.045509\n",
      "12      0.608977\n",
      "13      0.947395\n",
      "14      0.252455\n",
      "15      0.784329\n",
      "16      0.293143\n",
      "17      0.239346\n",
      "18      0.470780\n",
      "19      0.089050\n",
      "20      0.429657\n",
      "21      0.831496\n",
      "22      0.183131\n",
      "23      0.178989\n",
      "24      0.004422\n",
      "25      0.672564\n",
      "26      0.588775\n",
      "27      0.119381\n",
      "28      0.316719\n",
      "29      0.056389\n",
      "          ...   \n",
      "9970    0.782756\n",
      "9971    0.814181\n",
      "9972    0.858585\n",
      "9973    0.187144\n",
      "9974    0.190640\n",
      "9975    0.829844\n",
      "9976    0.303135\n",
      "9977    0.334547\n",
      "9978    0.811088\n",
      "9979    0.332886\n",
      "9980    0.210643\n",
      "9981    0.316471\n",
      "9982    0.548373\n",
      "9983    0.695946\n",
      "9984    0.118777\n",
      "9985    0.207743\n",
      "9986    0.320650\n",
      "9987    0.991184\n",
      "9988    0.992552\n",
      "9989    0.345785\n",
      "9990    0.941513\n",
      "9991    0.254225\n",
      "9992    0.518921\n",
      "9993    0.719825\n",
      "9994    0.199933\n",
      "9995    0.116149\n",
      "9996    0.511413\n",
      "9997    0.463118\n",
      "9998    0.372970\n",
      "9999    0.332379\n",
      "Name: nums, dtype: float64\n"
     ]
    }
   ],
   "source": [
    "nums = np.random.rand(10000)\n",
    "s = pd.Series(nums, name='nums')\n",
    "print(s)\n",
    "s.to_csv('tmp.txt',header=True, index=False)"
   ]
  },
  {
   "cell_type": "markdown",
   "metadata": {
    "slideshow": {
     "slide_type": "slide"
    }
   },
   "source": [
    "**Problem 2c**\n",
    "\n",
    "Using the `pandas` `read_csv()` method, read in the data to a new variable, called `s_read`. Do you expect `s_read` and `nums` to be the same? Check whether or not your expectations are correct. \n",
    "\n",
    "*Hint* - take the sum of the difference not equal to zero to identify if any elements are not the same."
   ]
  },
  {
   "cell_type": "code",
   "execution_count": 4,
   "metadata": {
    "collapsed": false,
    "slideshow": {
     "slide_type": "subslide"
    }
   },
   "outputs": [
    {
     "name": "stdout",
     "output_type": "stream",
     "text": [
      "False\n"
     ]
    },
    {
     "data": {
      "text/plain": [
       "2200"
      ]
     },
     "execution_count": 4,
     "metadata": {},
     "output_type": "execute_result"
    }
   ],
   "source": [
    "s_read = pd.read_csv('tmp.txt')\n",
    "\n",
    "print(s_read.equals(s))\n",
    "sum(nums-s_read['nums'].values!=0)"
   ]
  },
  {
   "cell_type": "markdown",
   "metadata": {
    "slideshow": {
     "slide_type": "subslide"
    }
   },
   "source": [
    "So, it turns out that $\\sim{23}\\%$ of the time, `pandas` does not in fact read in the same number that it wrote to disk.\n",
    "\n",
    "The truth is that these differences are quite small (see next slide), but there are many mathematical operations (e.g., subtraction of very similar numbers) that may lead these tiny differences to compound over time such that your data are not, in fact, constant."
   ]
  },
  {
   "cell_type": "code",
   "execution_count": 13,
   "metadata": {
    "collapsed": false,
    "slideshow": {
     "slide_type": "subslide"
    }
   },
   "outputs": [
    {
     "name": "stdout",
     "output_type": "stream",
     "text": [
      "2.22044604925e-16\n"
     ]
    }
   ],
   "source": [
    "print(np.max(np.abs(nums - s_read['nums'].values)))"
   ]
  },
  {
   "cell_type": "markdown",
   "metadata": {
    "slideshow": {
     "slide_type": "slide"
    }
   },
   "source": [
    "So, what is going on?\n",
    "\n",
    "Sometimes, when you convert a number to ASCII (i.e. text) format, there is some precision that is lost in that conversion. "
   ]
  },
  {
   "cell_type": "markdown",
   "metadata": {
    "slideshow": {
     "slide_type": "subslide"
    }
   },
   "source": [
    "How do you avoid this?\n",
    "\n",
    "One way is to directly write your files in binary. To do so has serveral advantages: it is possible to reproduce byte level accuracy, and, binary storage is almost always more efficient than text storage (the same number can be written in binary with less space than in ascii). "
   ]
  },
  {
   "cell_type": "markdown",
   "metadata": {
    "slideshow": {
     "slide_type": "subslide"
    }
   },
   "source": [
    "The downside is that developing your own procedure to write data in binary is a pain, and it places strong constraints on where and how you can interact with the data once it has been written to disk. \n",
    "\n",
    "Fortuantely, we live in a world with `pandas`. All this hard work has been done for you, as `pandas` naturally interfaces with the [`hdf5`](https://www.hdfgroup.org/solutions/hdf5/) binary table format. (You may want to also take a look at [`pyTables`](https://www.pytables.org/))\n",
    "\n",
    "(Historically astronomers have used [FITS](https://fits.gsfc.nasa.gov/fits_primer.html) files as a binary storage solution) "
   ]
  },
  {
   "cell_type": "markdown",
   "metadata": {
    "slideshow": {
     "slide_type": "slide"
    }
   },
   "source": [
    "**Problem 2d**\n",
    "\n",
    "Repeat your procedure from above, but instead of writing to a csv file, use the `pandas` `to_hdf()` and `read_df()` method to see if there are any differences in `s` and `s_read`.  \n",
    "\n",
    "*Hint* - You will need to specify a name for the table that you have written to the `hdf5` file in the call to `to_hdf()` as a required argument. Any string will do.\n",
    "\n",
    "*Hint 2* - Use `s_read.values` instead of `s_read['nums'].values`."
   ]
  },
  {
   "cell_type": "code",
   "execution_count": 9,
   "metadata": {
    "collapsed": false,
    "slideshow": {
     "slide_type": "subslide"
    }
   },
   "outputs": [
    {
     "ename": "AttributeError",
     "evalue": "module 'pandas' has no attribute 'read_df'",
     "output_type": "error",
     "traceback": [
      "\u001b[0;31m---------------------------------------------------------------------------\u001b[0m",
      "\u001b[0;31mAttributeError\u001b[0m                            Traceback (most recent call last)",
      "\u001b[0;32m<ipython-input-9-de78cd33b652>\u001b[0m in \u001b[0;36m<module>\u001b[0;34m()\u001b[0m\n\u001b[1;32m      1\u001b[0m \u001b[0ms\u001b[0m\u001b[0;34m.\u001b[0m\u001b[0mto_hdf\u001b[0m\u001b[0;34m(\u001b[0m\u001b[0;34m'tmp_hdf.txt'\u001b[0m\u001b[0;34m,\u001b[0m \u001b[0mkey\u001b[0m\u001b[0;34m=\u001b[0m\u001b[0;34m'nums'\u001b[0m\u001b[0;34m)\u001b[0m\u001b[0;34m\u001b[0m\u001b[0m\n\u001b[0;32m----> 2\u001b[0;31m \u001b[0ms_read\u001b[0m \u001b[0;34m=\u001b[0m\u001b[0mpd\u001b[0m\u001b[0;34m.\u001b[0m\u001b[0mread_df\u001b[0m\u001b[0;34m(\u001b[0m\u001b[0;34m'tmp_hdf.txt'\u001b[0m\u001b[0;34m)\u001b[0m\u001b[0;34m\u001b[0m\u001b[0m\n\u001b[0m\u001b[1;32m      3\u001b[0m \u001b[0mprint\u001b[0m\u001b[0;34m(\u001b[0m\u001b[0ms_read\u001b[0m\u001b[0;34m.\u001b[0m\u001b[0mequals\u001b[0m\u001b[0;34m(\u001b[0m\u001b[0ms\u001b[0m\u001b[0;34m)\u001b[0m\u001b[0;34m)\u001b[0m\u001b[0;34m\u001b[0m\u001b[0m\n\u001b[1;32m      4\u001b[0m \u001b[0msum\u001b[0m\u001b[0;34m(\u001b[0m\u001b[0mnums\u001b[0m\u001b[0;34m-\u001b[0m\u001b[0ms_read\u001b[0m\u001b[0;34m[\u001b[0m\u001b[0;34m'nums'\u001b[0m\u001b[0;34m]\u001b[0m\u001b[0;34m.\u001b[0m\u001b[0mvalues\u001b[0m\u001b[0;34m!=\u001b[0m\u001b[0;36m0\u001b[0m\u001b[0;34m)\u001b[0m\u001b[0;34m\u001b[0m\u001b[0m\n",
      "\u001b[0;31mAttributeError\u001b[0m: module 'pandas' has no attribute 'read_df'"
     ]
    }
   ],
   "source": [
    "s.to_hdf('tmp_hdf.txt', key='nums')\n",
    "s_read =pd.read_df('tmp_hdf.txt')\n",
    "print(s_read.equals(s))\n",
    "sum(nums-s_read['nums'].values!=0)"
   ]
  },
  {
   "cell_type": "markdown",
   "metadata": {
    "slideshow": {
     "slide_type": "slide"
    }
   },
   "source": [
    "So, if you are using `pandas` anyway, and if you aren't using `pandas` –– check it out!, then I strongly suggest removing csv files from your workflow to instead focus on binary hdf5 files. This requires typing the same number of characters, but it ensures byte level reproducibility.  \n",
    "\n",
    "And reproducibiliy is the pillar upon which the scientific method is built. "
   ]
  },
  {
   "cell_type": "markdown",
   "metadata": {
    "slideshow": {
     "slide_type": "subslide"
    }
   },
   "source": [
    "Is that the end of the story? ... No.\n",
    "\n",
    "In the previous example, I was being a little tricky in order to make a point. It *is* in fact possible to create reproducible csv files with `pandas`. By default, `pandas` sacrifices a little bit of precision in order to gain a lot more speed. If you want to ensure reproducibility then you can specify that the `float_precision` should be `round_trip`, meaning you get the same thing back after reading from a file that you wrote to disk. "
   ]
  },
  {
   "cell_type": "code",
   "execution_count": 10,
   "metadata": {
    "collapsed": false,
    "slideshow": {
     "slide_type": "subslide"
    }
   },
   "outputs": [
    {
     "data": {
      "text/plain": [
       "0"
      ]
     },
     "execution_count": 10,
     "metadata": {},
     "output_type": "execute_result"
    }
   ],
   "source": [
    "s.to_csv('tmp.txt', header=True, index=False)\n",
    "\n",
    "s_read = pd.read_csv('tmp.txt', float_precision='round_trip')\n",
    "\n",
    "sum(nums - s_read['nums'].values != 0)"
   ]
  },
  {
   "cell_type": "markdown",
   "metadata": {
    "slideshow": {
     "slide_type": "slide"
    }
   },
   "source": [
    "So was all of this in service of a lie?\n",
    "\n",
    "No. What I said before remains true - text files do not guarantee byte level precision, and they take more space on disk. Text files have some advantages:\n",
    "\n",
    "  -  anyone, anywhere, on any platform can easily manipulate text files\n",
    "  -  text files can be easily inspected (and corrected) if necessary\n",
    "  -  special packages are needed to read/write in binary\n",
    "  -  binary files, which are not easily interpretable, are difficult to use in version control (and banned by some version control platforms)"
   ]
  },
  {
   "cell_type": "markdown",
   "metadata": {
    "slideshow": {
     "slide_type": "subslide"
    }
   },
   "source": [
    "To summarize, here is my advice: think of binary as your (new?) default for storing data.\n",
    "\n",
    "But, as with all things, consider your audience: if you are sharing/working with people that won't be able to deal with binary data, or, you have an incredibly small amount of data, csv (or other text files) should be fine."
   ]
  },
  {
   "cell_type": "markdown",
   "metadata": {
    "slideshow": {
     "slide_type": "subslide"
    }
   },
   "source": [
    "## Problem 3) Binary or ASCII - Doesn't Matter if You Aren't Organized"
   ]
  },
  {
   "cell_type": "markdown",
   "metadata": {
    "slideshow": {
     "slide_type": "slide"
    }
   },
   "source": [
    "While the reproducibility of data is essential, ultimately, concerns about binary vs ascii are useless if you cannot access the data you need *when* you need it.\n",
    "\n",
    "Your data are valuable (though cheaper to acquire than ever before), which means you need a good solution for managing that data, or else you are going to run into a significant loss of time and money."
   ]
  },
  {
   "cell_type": "markdown",
   "metadata": {
    "slideshow": {
     "slide_type": "slide"
    }
   },
   "source": [
    "**Problem 3a**\n",
    "\n",
    "How would you organize the following: (a) 3 very deep images of a galaxy, (b) 4 nights of optical observations ($\\sim$50 images night$^{-1}$) of a galaxy cluster in the $ugrizY$ filters, (c) images from a 50 night time-domain survey ($\\sim$250 images night$^{-1}$) covering 1000 deg$^2$?\n",
    "\n",
    "Similarly, how would you organize: (a) photometric information for your galaxy observations, (b) photometry for all the galaxies in your cluster field, (c) the observations/light curves from your survey?\n",
    "\n",
    "*Take a minute to discuss with your partner*"
   ]
  },
  {
   "cell_type": "markdown",
   "metadata": {
    "slideshow": {
     "slide_type": "subslide"
    }
   },
   "source": [
    "**Solution 3a**\n",
    "\n",
    "..."
   ]
  },
  {
   "cell_type": "markdown",
   "metadata": {
    "slideshow": {
     "slide_type": "subslide"
    }
   },
   "source": [
    "Keeping in mind that there are several suitable answers to each of these questions, here are a few thoughts: (a) the 3 images should be kept together, probably in a single file directory. (b) With 200 images taken over the course of 4 nights, I would create a directory structure that includes every night (top level), with sub-directories based on the individual filters. (c) Similar to (b), I'd create a tree-based file structure, though given that the primary science is time variability, I would likely organize the observations by fieldID at the top level, then by filter and date after that. \n",
    "\n",
    "As a final note - for each of these data sets, backups are essential! There should be no risk of a single point failure wiping away all that information for good."
   ]
  },
  {
   "cell_type": "markdown",
   "metadata": {
    "slideshow": {
     "slide_type": "subslide"
    }
   },
   "source": [
    "The photometric data requires more than just a file structure. In all three cases I would want to store everything in a single file (so directories are not necessary). \n",
    "\n",
    "For 3 observations of a single galaxy, I would use... a text file (not worth the trouble for binary storage)\n",
    "\n",
    "Assuming there are 5000 galaxies in the cluster field, I would store the photometric information that I extract for those galaxies in a *table*. In this table, each row would represent a single galaxy, while the columns would include brightness/shape measurements for the galaxies in each of the observed filters. I would organize this table as a `pandas` DataFrame (and write it to an hdf5 file). "
   ]
  },
  {
   "cell_type": "markdown",
   "metadata": {
    "slideshow": {
     "slide_type": "subslide"
    }
   },
   "source": [
    "For the time-domain survey, the organization of all the photometric information is far less straight forward.\n",
    "\n",
    "Could you use a single table? Yes. Though this would be highly inefficient given that not all sources were observed at the same time. The table would then need columns like `obs1_JD`, `obs1_flux`, `obs1_flux_unc`, `obs2_JD`, `obs2_flux`, `obs2_flux_unc`, ..., all the way up to $N$, the maximum number of observations of any individual source. This will lead to several columns that are empty for several sources. "
   ]
  },
  {
   "cell_type": "markdown",
   "metadata": {
    "slideshow": {
     "slide_type": "subslide"
    }
   },
   "source": [
    "I would instead use a collection of tables. First, a master source table:\n",
    "\n",
    "|objID|RA|Dec|mean_mag|mean_mag_unc|\n",
    "|:--:|:--:|:--:|:--:|:--:|\n",
    "|0001|246.98756|-12.06547|18.35|0.08|\n",
    "|0002|246.98853|-12.04325|19.98|0.21|\n",
    "|.|.|.|.|.|\n",
    "|.|.|.|.|.|\n",
    "|.|.|.|.|.|"
   ]
  },
  {
   "cell_type": "markdown",
   "metadata": {
    "slideshow": {
     "slide_type": "subslide"
    }
   },
   "source": [
    "Coupled with a table holding the individual flux measurements:\n",
    "\n",
    "|objID|JD|filt|mag|mag_unc|\n",
    "|:--:|:--:|:--:|:--:|:--:|\n",
    "|0001|2456785.23465|r|18.21|0.07|\n",
    "|0001|2456785.23469|z|17.81|0.12|\n",
    "|.|.|.|.|.|\n",
    "|.|.|.|.|.|\n",
    "|.|.|.|.|.|\n",
    "|0547|2456821.36900|g|16.04|0.02|\n",
    "|0547|2456821.36906|i|17.12|0.05|\n",
    "|.|.|.|.|.|\n",
    "|.|.|.|.|.|\n",
    "|.|.|.|.|.|"
   ]
  },
  {
   "cell_type": "markdown",
   "metadata": {
    "slideshow": {
     "slide_type": "subslide"
    }
   },
   "source": [
    "The critical thing to notice about these tables is that they both contain `objID`. That information allows us to connect the tables via a \"join\". This table, or relational, structure allows us to easily connect subsets of the data as way to minimize storage (relative to having everything in a single table) while also maintaining computational speed."
   ]
  },
  {
   "cell_type": "markdown",
   "metadata": {
    "slideshow": {
     "slide_type": "slide"
    }
   },
   "source": [
    "Typically, when astronomers (or data scientists) need to organize data into several connected tables capable of performing fast relational algebra operations they use a database. We will hear a lot more about databases over the next few days, so I won't provide a detailed introduction now. \n",
    "\n",
    "One very nice property of (many) database systems is that provide an efficient means for searching large volumes of data that cannot be stored in memory (recall problem **1a**). Whereas, your laptop, or even a specialized high-memory computer, would not be able to open a csv file with all the LSST observations in it. "
   ]
  },
  {
   "cell_type": "markdown",
   "metadata": {
    "slideshow": {
     "slide_type": "subslide"
    }
   },
   "source": [
    "Another quick aside –– `pandas` can deal with files that are too large to fit in memory by loading a portion of the file at a time:\n",
    "\n",
    "    light_curves = pd.read_csv(lc_csv_file, chunksize=100000)\n",
    "\n",
    "If you are building a data structure where loading the data in \"chunks\" is necessary, I would strongly advise considering an alternative to storing the data in a csv file. "
   ]
  },
  {
   "cell_type": "markdown",
   "metadata": {
    "slideshow": {
     "slide_type": "slide"
    }
   },
   "source": [
    "A question you may currently be wondering is: why has there been such an intense focus on `pandas` today?\n",
    "\n",
    "The short answer: the developers of `pandas` wanted to create a product that is good at relational algebra (like traditional database tools) but with lower overhead in construction, and a lot more flexibility (which is essential in a world of heterogeneous data storage and management, see Tuesday's lecture on Data Wrangling). \n",
    "\n",
    "(You'll get several chances to practice working with databases throughout the week)"
   ]
  },
  {
   "cell_type": "markdown",
   "metadata": {
    "slideshow": {
     "slide_type": "slide"
    }
   },
   "source": [
    "We will now run through a few examples that highlight how `pandas` can be used in a manner similar to a relational database. Throughout the week, as you think about your own data management needs, I think the critical thing to consider is scope. Can my data be organized into something that is smaller than a full-on database?"
   ]
  },
  {
   "cell_type": "markdown",
   "metadata": {
    "slideshow": {
     "slide_type": "slide"
    }
   },
   "source": [
    "**Problem 3b**\n",
    "\n",
    "Download the [SDSS data set](https://northwestern.box.com/s/sjegm0tx62l2i8dkzqw22s4gmq1a9sg1) that will be used in the exercises for tomorrow. \n",
    "\n",
    "Read that data, stored in a csv file, into a `pandas` DataFrame called `sdss_spec`."
   ]
  },
  {
   "cell_type": "markdown",
   "metadata": {
    "slideshow": {
     "slide_type": "skip"
    }
   },
   "source": [
    "In a lecture where I have spent a great deal of time describing the value of binary data storage, does the fact that I am now providing a (moderate) amount of data as a plain ascii file mean that I am a bad teacher...\n",
    "\n",
    "*probably*"
   ]
  },
  {
   "cell_type": "code",
   "execution_count": 11,
   "metadata": {
    "collapsed": false,
    "slideshow": {
     "slide_type": "subslide"
    }
   },
   "outputs": [
    {
     "data": {
      "text/html": [
       "<div>\n",
       "<table border=\"1\" class=\"dataframe\">\n",
       "  <thead>\n",
       "    <tr style=\"text-align: right;\">\n",
       "      <th></th>\n",
       "      <th>specObjID</th>\n",
       "      <th>z</th>\n",
       "      <th>type</th>\n",
       "      <th>psfMag_u</th>\n",
       "      <th>psfMag_g</th>\n",
       "      <th>psfMag_r</th>\n",
       "      <th>psfMag_i</th>\n",
       "      <th>psfMag_z</th>\n",
       "      <th>modelMag_u</th>\n",
       "      <th>modelMag_g</th>\n",
       "      <th>...</th>\n",
       "      <th>extinction_i</th>\n",
       "      <th>extinction_z</th>\n",
       "      <th>w1mpro</th>\n",
       "      <th>w1snr</th>\n",
       "      <th>w2mpro</th>\n",
       "      <th>w2snr</th>\n",
       "      <th>w3mpro</th>\n",
       "      <th>w3snr</th>\n",
       "      <th>w4mpro</th>\n",
       "      <th>w4snr</th>\n",
       "    </tr>\n",
       "  </thead>\n",
       "  <tbody>\n",
       "    <tr>\n",
       "      <th>0</th>\n",
       "      <td>299567742770505728</td>\n",
       "      <td>0.071414</td>\n",
       "      <td>ext</td>\n",
       "      <td>20.88291</td>\n",
       "      <td>19.23907</td>\n",
       "      <td>18.56170</td>\n",
       "      <td>18.09715</td>\n",
       "      <td>17.76469</td>\n",
       "      <td>19.62189</td>\n",
       "      <td>18.03702</td>\n",
       "      <td>...</td>\n",
       "      <td>0.061267</td>\n",
       "      <td>0.045572</td>\n",
       "      <td>14.395</td>\n",
       "      <td>21.1</td>\n",
       "      <td>14.236</td>\n",
       "      <td>15.6</td>\n",
       "      <td>11.029</td>\n",
       "      <td>6.8</td>\n",
       "      <td>8.579</td>\n",
       "      <td>-0.9</td>\n",
       "    </tr>\n",
       "    <tr>\n",
       "      <th>1</th>\n",
       "      <td>299568017178650624</td>\n",
       "      <td>0.071380</td>\n",
       "      <td>ext</td>\n",
       "      <td>20.88291</td>\n",
       "      <td>19.23907</td>\n",
       "      <td>18.56170</td>\n",
       "      <td>18.09715</td>\n",
       "      <td>17.76469</td>\n",
       "      <td>19.62189</td>\n",
       "      <td>18.03702</td>\n",
       "      <td>...</td>\n",
       "      <td>0.061267</td>\n",
       "      <td>0.045572</td>\n",
       "      <td>14.395</td>\n",
       "      <td>21.1</td>\n",
       "      <td>14.236</td>\n",
       "      <td>15.6</td>\n",
       "      <td>11.029</td>\n",
       "      <td>6.8</td>\n",
       "      <td>8.579</td>\n",
       "      <td>-0.9</td>\n",
       "    </tr>\n",
       "    <tr>\n",
       "      <th>2</th>\n",
       "      <td>299566643258877952</td>\n",
       "      <td>0.088173</td>\n",
       "      <td>ext</td>\n",
       "      <td>20.84844</td>\n",
       "      <td>18.96040</td>\n",
       "      <td>18.08027</td>\n",
       "      <td>17.62953</td>\n",
       "      <td>17.31857</td>\n",
       "      <td>20.18508</td>\n",
       "      <td>18.26120</td>\n",
       "      <td>...</td>\n",
       "      <td>0.047582</td>\n",
       "      <td>0.035392</td>\n",
       "      <td>14.162</td>\n",
       "      <td>35.0</td>\n",
       "      <td>13.970</td>\n",
       "      <td>22.3</td>\n",
       "      <td>12.233</td>\n",
       "      <td>2.9</td>\n",
       "      <td>9.067</td>\n",
       "      <td>-0.3</td>\n",
       "    </tr>\n",
       "    <tr>\n",
       "      <th>3</th>\n",
       "      <td>299569116690278400</td>\n",
       "      <td>0.088161</td>\n",
       "      <td>ext</td>\n",
       "      <td>20.84844</td>\n",
       "      <td>18.96040</td>\n",
       "      <td>18.08027</td>\n",
       "      <td>17.62953</td>\n",
       "      <td>17.31857</td>\n",
       "      <td>20.18508</td>\n",
       "      <td>18.26120</td>\n",
       "      <td>...</td>\n",
       "      <td>0.047582</td>\n",
       "      <td>0.035392</td>\n",
       "      <td>14.162</td>\n",
       "      <td>35.0</td>\n",
       "      <td>13.970</td>\n",
       "      <td>22.3</td>\n",
       "      <td>12.233</td>\n",
       "      <td>2.9</td>\n",
       "      <td>9.067</td>\n",
       "      <td>-0.3</td>\n",
       "    </tr>\n",
       "    <tr>\n",
       "      <th>4</th>\n",
       "      <td>299568292056557568</td>\n",
       "      <td>0.066539</td>\n",
       "      <td>ext</td>\n",
       "      <td>21.28256</td>\n",
       "      <td>19.61427</td>\n",
       "      <td>18.98529</td>\n",
       "      <td>18.52956</td>\n",
       "      <td>18.26322</td>\n",
       "      <td>20.18081</td>\n",
       "      <td>18.47435</td>\n",
       "      <td>...</td>\n",
       "      <td>0.058709</td>\n",
       "      <td>0.043669</td>\n",
       "      <td>14.734</td>\n",
       "      <td>30.6</td>\n",
       "      <td>14.512</td>\n",
       "      <td>17.6</td>\n",
       "      <td>11.078</td>\n",
       "      <td>9.8</td>\n",
       "      <td>9.054</td>\n",
       "      <td>2.3</td>\n",
       "    </tr>\n",
       "  </tbody>\n",
       "</table>\n",
       "<p>5 rows × 26 columns</p>\n",
       "</div>"
      ],
      "text/plain": [
       "            specObjID         z type  psfMag_u  psfMag_g  psfMag_r  psfMag_i  \\\n",
       "0  299567742770505728  0.071414  ext  20.88291  19.23907  18.56170  18.09715   \n",
       "1  299568017178650624  0.071380  ext  20.88291  19.23907  18.56170  18.09715   \n",
       "2  299566643258877952  0.088173  ext  20.84844  18.96040  18.08027  17.62953   \n",
       "3  299569116690278400  0.088161  ext  20.84844  18.96040  18.08027  17.62953   \n",
       "4  299568292056557568  0.066539  ext  21.28256  19.61427  18.98529  18.52956   \n",
       "\n",
       "   psfMag_z  modelMag_u  modelMag_g  ...    extinction_i  extinction_z  \\\n",
       "0  17.76469    19.62189    18.03702  ...        0.061267      0.045572   \n",
       "1  17.76469    19.62189    18.03702  ...        0.061267      0.045572   \n",
       "2  17.31857    20.18508    18.26120  ...        0.047582      0.035392   \n",
       "3  17.31857    20.18508    18.26120  ...        0.047582      0.035392   \n",
       "4  18.26322    20.18081    18.47435  ...        0.058709      0.043669   \n",
       "\n",
       "   w1mpro  w1snr  w2mpro  w2snr  w3mpro  w3snr  w4mpro  w4snr  \n",
       "0  14.395   21.1  14.236   15.6  11.029    6.8   8.579   -0.9  \n",
       "1  14.395   21.1  14.236   15.6  11.029    6.8   8.579   -0.9  \n",
       "2  14.162   35.0  13.970   22.3  12.233    2.9   9.067   -0.3  \n",
       "3  14.162   35.0  13.970   22.3  12.233    2.9   9.067   -0.3  \n",
       "4  14.734   30.6  14.512   17.6  11.078    9.8   9.054    2.3  \n",
       "\n",
       "[5 rows x 26 columns]"
      ]
     },
     "execution_count": 11,
     "metadata": {},
     "output_type": "execute_result"
    }
   ],
   "source": [
    "sdss_spec = pd.read_csv(\"/Users/alcorn/Documents/LSSTDSFP/Session8/DSFP_SDSS_spec_train.csv\")\n",
    "sdss_spec.head()"
   ]
  },
  {
   "cell_type": "markdown",
   "metadata": {
    "slideshow": {
     "slide_type": "slide"
    }
   },
   "source": [
    "`pandas` provides many different methods for selecting columns from the DataFrame. Supposing you wanted `psfMag`, you could use any of the following:\n",
    "\n",
    "    sdss_spec['psfMag_g']\n",
    "    sdss_spec[['psfMag_r', 'psfMag_z']]\n",
    "    sdss_spec.psfMag_g\n",
    "\n",
    "(notice that selecting multiple columns requires a list within `[]`)"
   ]
  },
  {
   "cell_type": "markdown",
   "metadata": {
    "slideshow": {
     "slide_type": "slide"
    }
   },
   "source": [
    "**Problem 3c**\n",
    "\n",
    "Plot a histogram of the `psfMag_g` - `modelMag_g` distribution for the data set (which requires a selection of those two columns).\n",
    "\n",
    "Do you notice anything interesting?\n",
    "\n",
    "*Hint* - you may want to use more than the default number of bins (=10)."
   ]
  },
  {
   "cell_type": "code",
   "execution_count": 12,
   "metadata": {
    "collapsed": false,
    "slideshow": {
     "slide_type": "slide"
    }
   },
   "outputs": [
    {
     "data": {
      "application/javascript": [
       "/* Put everything inside the global mpl namespace */\n",
       "window.mpl = {};\n",
       "\n",
       "mpl.get_websocket_type = function() {\n",
       "    if (typeof(WebSocket) !== 'undefined') {\n",
       "        return WebSocket;\n",
       "    } else if (typeof(MozWebSocket) !== 'undefined') {\n",
       "        return MozWebSocket;\n",
       "    } else {\n",
       "        alert('Your browser does not have WebSocket support.' +\n",
       "              'Please try Chrome, Safari or Firefox ≥ 6. ' +\n",
       "              'Firefox 4 and 5 are also supported but you ' +\n",
       "              'have to enable WebSockets in about:config.');\n",
       "    };\n",
       "}\n",
       "\n",
       "mpl.figure = function(figure_id, websocket, ondownload, parent_element) {\n",
       "    this.id = figure_id;\n",
       "\n",
       "    this.ws = websocket;\n",
       "\n",
       "    this.supports_binary = (this.ws.binaryType != undefined);\n",
       "\n",
       "    if (!this.supports_binary) {\n",
       "        var warnings = document.getElementById(\"mpl-warnings\");\n",
       "        if (warnings) {\n",
       "            warnings.style.display = 'block';\n",
       "            warnings.textContent = (\n",
       "                \"This browser does not support binary websocket messages. \" +\n",
       "                    \"Performance may be slow.\");\n",
       "        }\n",
       "    }\n",
       "\n",
       "    this.imageObj = new Image();\n",
       "\n",
       "    this.context = undefined;\n",
       "    this.message = undefined;\n",
       "    this.canvas = undefined;\n",
       "    this.rubberband_canvas = undefined;\n",
       "    this.rubberband_context = undefined;\n",
       "    this.format_dropdown = undefined;\n",
       "\n",
       "    this.image_mode = 'full';\n",
       "\n",
       "    this.root = $('<div/>');\n",
       "    this._root_extra_style(this.root)\n",
       "    this.root.attr('style', 'display: inline-block');\n",
       "\n",
       "    $(parent_element).append(this.root);\n",
       "\n",
       "    this._init_header(this);\n",
       "    this._init_canvas(this);\n",
       "    this._init_toolbar(this);\n",
       "\n",
       "    var fig = this;\n",
       "\n",
       "    this.waiting = false;\n",
       "\n",
       "    this.ws.onopen =  function () {\n",
       "            fig.send_message(\"supports_binary\", {value: fig.supports_binary});\n",
       "            fig.send_message(\"send_image_mode\", {});\n",
       "            fig.send_message(\"refresh\", {});\n",
       "        }\n",
       "\n",
       "    this.imageObj.onload = function() {\n",
       "            if (fig.image_mode == 'full') {\n",
       "                // Full images could contain transparency (where diff images\n",
       "                // almost always do), so we need to clear the canvas so that\n",
       "                // there is no ghosting.\n",
       "                fig.context.clearRect(0, 0, fig.canvas.width, fig.canvas.height);\n",
       "            }\n",
       "            fig.context.drawImage(fig.imageObj, 0, 0);\n",
       "        };\n",
       "\n",
       "    this.imageObj.onunload = function() {\n",
       "        this.ws.close();\n",
       "    }\n",
       "\n",
       "    this.ws.onmessage = this._make_on_message_function(this);\n",
       "\n",
       "    this.ondownload = ondownload;\n",
       "}\n",
       "\n",
       "mpl.figure.prototype._init_header = function() {\n",
       "    var titlebar = $(\n",
       "        '<div class=\"ui-dialog-titlebar ui-widget-header ui-corner-all ' +\n",
       "        'ui-helper-clearfix\"/>');\n",
       "    var titletext = $(\n",
       "        '<div class=\"ui-dialog-title\" style=\"width: 100%; ' +\n",
       "        'text-align: center; padding: 3px;\"/>');\n",
       "    titlebar.append(titletext)\n",
       "    this.root.append(titlebar);\n",
       "    this.header = titletext[0];\n",
       "}\n",
       "\n",
       "\n",
       "\n",
       "mpl.figure.prototype._canvas_extra_style = function(canvas_div) {\n",
       "\n",
       "}\n",
       "\n",
       "\n",
       "mpl.figure.prototype._root_extra_style = function(canvas_div) {\n",
       "\n",
       "}\n",
       "\n",
       "mpl.figure.prototype._init_canvas = function() {\n",
       "    var fig = this;\n",
       "\n",
       "    var canvas_div = $('<div/>');\n",
       "\n",
       "    canvas_div.attr('style', 'position: relative; clear: both; outline: 0');\n",
       "\n",
       "    function canvas_keyboard_event(event) {\n",
       "        return fig.key_event(event, event['data']);\n",
       "    }\n",
       "\n",
       "    canvas_div.keydown('key_press', canvas_keyboard_event);\n",
       "    canvas_div.keyup('key_release', canvas_keyboard_event);\n",
       "    this.canvas_div = canvas_div\n",
       "    this._canvas_extra_style(canvas_div)\n",
       "    this.root.append(canvas_div);\n",
       "\n",
       "    var canvas = $('<canvas/>');\n",
       "    canvas.addClass('mpl-canvas');\n",
       "    canvas.attr('style', \"left: 0; top: 0; z-index: 0; outline: 0\")\n",
       "\n",
       "    this.canvas = canvas[0];\n",
       "    this.context = canvas[0].getContext(\"2d\");\n",
       "\n",
       "    var rubberband = $('<canvas/>');\n",
       "    rubberband.attr('style', \"position: absolute; left: 0; top: 0; z-index: 1;\")\n",
       "\n",
       "    var pass_mouse_events = true;\n",
       "\n",
       "    canvas_div.resizable({\n",
       "        start: function(event, ui) {\n",
       "            pass_mouse_events = false;\n",
       "        },\n",
       "        resize: function(event, ui) {\n",
       "            fig.request_resize(ui.size.width, ui.size.height);\n",
       "        },\n",
       "        stop: function(event, ui) {\n",
       "            pass_mouse_events = true;\n",
       "            fig.request_resize(ui.size.width, ui.size.height);\n",
       "        },\n",
       "    });\n",
       "\n",
       "    function mouse_event_fn(event) {\n",
       "        if (pass_mouse_events)\n",
       "            return fig.mouse_event(event, event['data']);\n",
       "    }\n",
       "\n",
       "    rubberband.mousedown('button_press', mouse_event_fn);\n",
       "    rubberband.mouseup('button_release', mouse_event_fn);\n",
       "    // Throttle sequential mouse events to 1 every 20ms.\n",
       "    rubberband.mousemove('motion_notify', mouse_event_fn);\n",
       "\n",
       "    rubberband.mouseenter('figure_enter', mouse_event_fn);\n",
       "    rubberband.mouseleave('figure_leave', mouse_event_fn);\n",
       "\n",
       "    canvas_div.on(\"wheel\", function (event) {\n",
       "        event = event.originalEvent;\n",
       "        event['data'] = 'scroll'\n",
       "        if (event.deltaY < 0) {\n",
       "            event.step = 1;\n",
       "        } else {\n",
       "            event.step = -1;\n",
       "        }\n",
       "        mouse_event_fn(event);\n",
       "    });\n",
       "\n",
       "    canvas_div.append(canvas);\n",
       "    canvas_div.append(rubberband);\n",
       "\n",
       "    this.rubberband = rubberband;\n",
       "    this.rubberband_canvas = rubberband[0];\n",
       "    this.rubberband_context = rubberband[0].getContext(\"2d\");\n",
       "    this.rubberband_context.strokeStyle = \"#000000\";\n",
       "\n",
       "    this._resize_canvas = function(width, height) {\n",
       "        // Keep the size of the canvas, canvas container, and rubber band\n",
       "        // canvas in synch.\n",
       "        canvas_div.css('width', width)\n",
       "        canvas_div.css('height', height)\n",
       "\n",
       "        canvas.attr('width', width);\n",
       "        canvas.attr('height', height);\n",
       "\n",
       "        rubberband.attr('width', width);\n",
       "        rubberband.attr('height', height);\n",
       "    }\n",
       "\n",
       "    // Set the figure to an initial 600x600px, this will subsequently be updated\n",
       "    // upon first draw.\n",
       "    this._resize_canvas(600, 600);\n",
       "\n",
       "    // Disable right mouse context menu.\n",
       "    $(this.rubberband_canvas).bind(\"contextmenu\",function(e){\n",
       "        return false;\n",
       "    });\n",
       "\n",
       "    function set_focus () {\n",
       "        canvas.focus();\n",
       "        canvas_div.focus();\n",
       "    }\n",
       "\n",
       "    window.setTimeout(set_focus, 100);\n",
       "}\n",
       "\n",
       "mpl.figure.prototype._init_toolbar = function() {\n",
       "    var fig = this;\n",
       "\n",
       "    var nav_element = $('<div/>')\n",
       "    nav_element.attr('style', 'width: 100%');\n",
       "    this.root.append(nav_element);\n",
       "\n",
       "    // Define a callback function for later on.\n",
       "    function toolbar_event(event) {\n",
       "        return fig.toolbar_button_onclick(event['data']);\n",
       "    }\n",
       "    function toolbar_mouse_event(event) {\n",
       "        return fig.toolbar_button_onmouseover(event['data']);\n",
       "    }\n",
       "\n",
       "    for(var toolbar_ind in mpl.toolbar_items) {\n",
       "        var name = mpl.toolbar_items[toolbar_ind][0];\n",
       "        var tooltip = mpl.toolbar_items[toolbar_ind][1];\n",
       "        var image = mpl.toolbar_items[toolbar_ind][2];\n",
       "        var method_name = mpl.toolbar_items[toolbar_ind][3];\n",
       "\n",
       "        if (!name) {\n",
       "            // put a spacer in here.\n",
       "            continue;\n",
       "        }\n",
       "        var button = $('<button/>');\n",
       "        button.addClass('ui-button ui-widget ui-state-default ui-corner-all ' +\n",
       "                        'ui-button-icon-only');\n",
       "        button.attr('role', 'button');\n",
       "        button.attr('aria-disabled', 'false');\n",
       "        button.click(method_name, toolbar_event);\n",
       "        button.mouseover(tooltip, toolbar_mouse_event);\n",
       "\n",
       "        var icon_img = $('<span/>');\n",
       "        icon_img.addClass('ui-button-icon-primary ui-icon');\n",
       "        icon_img.addClass(image);\n",
       "        icon_img.addClass('ui-corner-all');\n",
       "\n",
       "        var tooltip_span = $('<span/>');\n",
       "        tooltip_span.addClass('ui-button-text');\n",
       "        tooltip_span.html(tooltip);\n",
       "\n",
       "        button.append(icon_img);\n",
       "        button.append(tooltip_span);\n",
       "\n",
       "        nav_element.append(button);\n",
       "    }\n",
       "\n",
       "    var fmt_picker_span = $('<span/>');\n",
       "\n",
       "    var fmt_picker = $('<select/>');\n",
       "    fmt_picker.addClass('mpl-toolbar-option ui-widget ui-widget-content');\n",
       "    fmt_picker_span.append(fmt_picker);\n",
       "    nav_element.append(fmt_picker_span);\n",
       "    this.format_dropdown = fmt_picker[0];\n",
       "\n",
       "    for (var ind in mpl.extensions) {\n",
       "        var fmt = mpl.extensions[ind];\n",
       "        var option = $(\n",
       "            '<option/>', {selected: fmt === mpl.default_extension}).html(fmt);\n",
       "        fmt_picker.append(option)\n",
       "    }\n",
       "\n",
       "    // Add hover states to the ui-buttons\n",
       "    $( \".ui-button\" ).hover(\n",
       "        function() { $(this).addClass(\"ui-state-hover\");},\n",
       "        function() { $(this).removeClass(\"ui-state-hover\");}\n",
       "    );\n",
       "\n",
       "    var status_bar = $('<span class=\"mpl-message\"/>');\n",
       "    nav_element.append(status_bar);\n",
       "    this.message = status_bar[0];\n",
       "}\n",
       "\n",
       "mpl.figure.prototype.request_resize = function(x_pixels, y_pixels) {\n",
       "    // Request matplotlib to resize the figure. Matplotlib will then trigger a resize in the client,\n",
       "    // which will in turn request a refresh of the image.\n",
       "    this.send_message('resize', {'width': x_pixels, 'height': y_pixels});\n",
       "}\n",
       "\n",
       "mpl.figure.prototype.send_message = function(type, properties) {\n",
       "    properties['type'] = type;\n",
       "    properties['figure_id'] = this.id;\n",
       "    this.ws.send(JSON.stringify(properties));\n",
       "}\n",
       "\n",
       "mpl.figure.prototype.send_draw_message = function() {\n",
       "    if (!this.waiting) {\n",
       "        this.waiting = true;\n",
       "        this.ws.send(JSON.stringify({type: \"draw\", figure_id: this.id}));\n",
       "    }\n",
       "}\n",
       "\n",
       "\n",
       "mpl.figure.prototype.handle_save = function(fig, msg) {\n",
       "    var format_dropdown = fig.format_dropdown;\n",
       "    var format = format_dropdown.options[format_dropdown.selectedIndex].value;\n",
       "    fig.ondownload(fig, format);\n",
       "}\n",
       "\n",
       "\n",
       "mpl.figure.prototype.handle_resize = function(fig, msg) {\n",
       "    var size = msg['size'];\n",
       "    if (size[0] != fig.canvas.width || size[1] != fig.canvas.height) {\n",
       "        fig._resize_canvas(size[0], size[1]);\n",
       "        fig.send_message(\"refresh\", {});\n",
       "    };\n",
       "}\n",
       "\n",
       "mpl.figure.prototype.handle_rubberband = function(fig, msg) {\n",
       "    var x0 = msg['x0'];\n",
       "    var y0 = fig.canvas.height - msg['y0'];\n",
       "    var x1 = msg['x1'];\n",
       "    var y1 = fig.canvas.height - msg['y1'];\n",
       "    x0 = Math.floor(x0) + 0.5;\n",
       "    y0 = Math.floor(y0) + 0.5;\n",
       "    x1 = Math.floor(x1) + 0.5;\n",
       "    y1 = Math.floor(y1) + 0.5;\n",
       "    var min_x = Math.min(x0, x1);\n",
       "    var min_y = Math.min(y0, y1);\n",
       "    var width = Math.abs(x1 - x0);\n",
       "    var height = Math.abs(y1 - y0);\n",
       "\n",
       "    fig.rubberband_context.clearRect(\n",
       "        0, 0, fig.canvas.width, fig.canvas.height);\n",
       "\n",
       "    fig.rubberband_context.strokeRect(min_x, min_y, width, height);\n",
       "}\n",
       "\n",
       "mpl.figure.prototype.handle_figure_label = function(fig, msg) {\n",
       "    // Updates the figure title.\n",
       "    fig.header.textContent = msg['label'];\n",
       "}\n",
       "\n",
       "mpl.figure.prototype.handle_cursor = function(fig, msg) {\n",
       "    var cursor = msg['cursor'];\n",
       "    switch(cursor)\n",
       "    {\n",
       "    case 0:\n",
       "        cursor = 'pointer';\n",
       "        break;\n",
       "    case 1:\n",
       "        cursor = 'default';\n",
       "        break;\n",
       "    case 2:\n",
       "        cursor = 'crosshair';\n",
       "        break;\n",
       "    case 3:\n",
       "        cursor = 'move';\n",
       "        break;\n",
       "    }\n",
       "    fig.rubberband_canvas.style.cursor = cursor;\n",
       "}\n",
       "\n",
       "mpl.figure.prototype.handle_message = function(fig, msg) {\n",
       "    fig.message.textContent = msg['message'];\n",
       "}\n",
       "\n",
       "mpl.figure.prototype.handle_draw = function(fig, msg) {\n",
       "    // Request the server to send over a new figure.\n",
       "    fig.send_draw_message();\n",
       "}\n",
       "\n",
       "mpl.figure.prototype.handle_image_mode = function(fig, msg) {\n",
       "    fig.image_mode = msg['mode'];\n",
       "}\n",
       "\n",
       "mpl.figure.prototype.updated_canvas_event = function() {\n",
       "    // Called whenever the canvas gets updated.\n",
       "    this.send_message(\"ack\", {});\n",
       "}\n",
       "\n",
       "// A function to construct a web socket function for onmessage handling.\n",
       "// Called in the figure constructor.\n",
       "mpl.figure.prototype._make_on_message_function = function(fig) {\n",
       "    return function socket_on_message(evt) {\n",
       "        if (evt.data instanceof Blob) {\n",
       "            /* FIXME: We get \"Resource interpreted as Image but\n",
       "             * transferred with MIME type text/plain:\" errors on\n",
       "             * Chrome.  But how to set the MIME type?  It doesn't seem\n",
       "             * to be part of the websocket stream */\n",
       "            evt.data.type = \"image/png\";\n",
       "\n",
       "            /* Free the memory for the previous frames */\n",
       "            if (fig.imageObj.src) {\n",
       "                (window.URL || window.webkitURL).revokeObjectURL(\n",
       "                    fig.imageObj.src);\n",
       "            }\n",
       "\n",
       "            fig.imageObj.src = (window.URL || window.webkitURL).createObjectURL(\n",
       "                evt.data);\n",
       "            fig.updated_canvas_event();\n",
       "            fig.waiting = false;\n",
       "            return;\n",
       "        }\n",
       "        else if (typeof evt.data === 'string' && evt.data.slice(0, 21) == \"data:image/png;base64\") {\n",
       "            fig.imageObj.src = evt.data;\n",
       "            fig.updated_canvas_event();\n",
       "            fig.waiting = false;\n",
       "            return;\n",
       "        }\n",
       "\n",
       "        var msg = JSON.parse(evt.data);\n",
       "        var msg_type = msg['type'];\n",
       "\n",
       "        // Call the  \"handle_{type}\" callback, which takes\n",
       "        // the figure and JSON message as its only arguments.\n",
       "        try {\n",
       "            var callback = fig[\"handle_\" + msg_type];\n",
       "        } catch (e) {\n",
       "            console.log(\"No handler for the '\" + msg_type + \"' message type: \", msg);\n",
       "            return;\n",
       "        }\n",
       "\n",
       "        if (callback) {\n",
       "            try {\n",
       "                // console.log(\"Handling '\" + msg_type + \"' message: \", msg);\n",
       "                callback(fig, msg);\n",
       "            } catch (e) {\n",
       "                console.log(\"Exception inside the 'handler_\" + msg_type + \"' callback:\", e, e.stack, msg);\n",
       "            }\n",
       "        }\n",
       "    };\n",
       "}\n",
       "\n",
       "// from http://stackoverflow.com/questions/1114465/getting-mouse-location-in-canvas\n",
       "mpl.findpos = function(e) {\n",
       "    //this section is from http://www.quirksmode.org/js/events_properties.html\n",
       "    var targ;\n",
       "    if (!e)\n",
       "        e = window.event;\n",
       "    if (e.target)\n",
       "        targ = e.target;\n",
       "    else if (e.srcElement)\n",
       "        targ = e.srcElement;\n",
       "    if (targ.nodeType == 3) // defeat Safari bug\n",
       "        targ = targ.parentNode;\n",
       "\n",
       "    // jQuery normalizes the pageX and pageY\n",
       "    // pageX,Y are the mouse positions relative to the document\n",
       "    // offset() returns the position of the element relative to the document\n",
       "    var x = e.pageX - $(targ).offset().left;\n",
       "    var y = e.pageY - $(targ).offset().top;\n",
       "\n",
       "    return {\"x\": x, \"y\": y};\n",
       "};\n",
       "\n",
       "/*\n",
       " * return a copy of an object with only non-object keys\n",
       " * we need this to avoid circular references\n",
       " * http://stackoverflow.com/a/24161582/3208463\n",
       " */\n",
       "function simpleKeys (original) {\n",
       "  return Object.keys(original).reduce(function (obj, key) {\n",
       "    if (typeof original[key] !== 'object')\n",
       "        obj[key] = original[key]\n",
       "    return obj;\n",
       "  }, {});\n",
       "}\n",
       "\n",
       "mpl.figure.prototype.mouse_event = function(event, name) {\n",
       "    var canvas_pos = mpl.findpos(event)\n",
       "\n",
       "    if (name === 'button_press')\n",
       "    {\n",
       "        this.canvas.focus();\n",
       "        this.canvas_div.focus();\n",
       "    }\n",
       "\n",
       "    var x = canvas_pos.x;\n",
       "    var y = canvas_pos.y;\n",
       "\n",
       "    this.send_message(name, {x: x, y: y, button: event.button,\n",
       "                             step: event.step,\n",
       "                             guiEvent: simpleKeys(event)});\n",
       "\n",
       "    /* This prevents the web browser from automatically changing to\n",
       "     * the text insertion cursor when the button is pressed.  We want\n",
       "     * to control all of the cursor setting manually through the\n",
       "     * 'cursor' event from matplotlib */\n",
       "    event.preventDefault();\n",
       "    return false;\n",
       "}\n",
       "\n",
       "mpl.figure.prototype._key_event_extra = function(event, name) {\n",
       "    // Handle any extra behaviour associated with a key event\n",
       "}\n",
       "\n",
       "mpl.figure.prototype.key_event = function(event, name) {\n",
       "\n",
       "    // Prevent repeat events\n",
       "    if (name == 'key_press')\n",
       "    {\n",
       "        if (event.which === this._key)\n",
       "            return;\n",
       "        else\n",
       "            this._key = event.which;\n",
       "    }\n",
       "    if (name == 'key_release')\n",
       "        this._key = null;\n",
       "\n",
       "    var value = '';\n",
       "    if (event.ctrlKey && event.which != 17)\n",
       "        value += \"ctrl+\";\n",
       "    if (event.altKey && event.which != 18)\n",
       "        value += \"alt+\";\n",
       "    if (event.shiftKey && event.which != 16)\n",
       "        value += \"shift+\";\n",
       "\n",
       "    value += 'k';\n",
       "    value += event.which.toString();\n",
       "\n",
       "    this._key_event_extra(event, name);\n",
       "\n",
       "    this.send_message(name, {key: value,\n",
       "                             guiEvent: simpleKeys(event)});\n",
       "    return false;\n",
       "}\n",
       "\n",
       "mpl.figure.prototype.toolbar_button_onclick = function(name) {\n",
       "    if (name == 'download') {\n",
       "        this.handle_save(this, null);\n",
       "    } else {\n",
       "        this.send_message(\"toolbar_button\", {name: name});\n",
       "    }\n",
       "};\n",
       "\n",
       "mpl.figure.prototype.toolbar_button_onmouseover = function(tooltip) {\n",
       "    this.message.textContent = tooltip;\n",
       "};\n",
       "mpl.toolbar_items = [[\"Home\", \"Reset original view\", \"fa fa-home icon-home\", \"home\"], [\"Back\", \"Back to  previous view\", \"fa fa-arrow-left icon-arrow-left\", \"back\"], [\"Forward\", \"Forward to next view\", \"fa fa-arrow-right icon-arrow-right\", \"forward\"], [\"\", \"\", \"\", \"\"], [\"Pan\", \"Pan axes with left mouse, zoom with right\", \"fa fa-arrows icon-move\", \"pan\"], [\"Zoom\", \"Zoom to rectangle\", \"fa fa-square-o icon-check-empty\", \"zoom\"], [\"\", \"\", \"\", \"\"], [\"Download\", \"Download plot\", \"fa fa-floppy-o icon-save\", \"download\"]];\n",
       "\n",
       "mpl.extensions = [\"eps\", \"jpeg\", \"pdf\", \"png\", \"ps\", \"raw\", \"svg\", \"tif\"];\n",
       "\n",
       "mpl.default_extension = \"png\";var comm_websocket_adapter = function(comm) {\n",
       "    // Create a \"websocket\"-like object which calls the given IPython comm\n",
       "    // object with the appropriate methods. Currently this is a non binary\n",
       "    // socket, so there is still some room for performance tuning.\n",
       "    var ws = {};\n",
       "\n",
       "    ws.close = function() {\n",
       "        comm.close()\n",
       "    };\n",
       "    ws.send = function(m) {\n",
       "        //console.log('sending', m);\n",
       "        comm.send(m);\n",
       "    };\n",
       "    // Register the callback with on_msg.\n",
       "    comm.on_msg(function(msg) {\n",
       "        //console.log('receiving', msg['content']['data'], msg);\n",
       "        // Pass the mpl event to the overriden (by mpl) onmessage function.\n",
       "        ws.onmessage(msg['content']['data'])\n",
       "    });\n",
       "    return ws;\n",
       "}\n",
       "\n",
       "mpl.mpl_figure_comm = function(comm, msg) {\n",
       "    // This is the function which gets called when the mpl process\n",
       "    // starts-up an IPython Comm through the \"matplotlib\" channel.\n",
       "\n",
       "    var id = msg.content.data.id;\n",
       "    // Get hold of the div created by the display call when the Comm\n",
       "    // socket was opened in Python.\n",
       "    var element = $(\"#\" + id);\n",
       "    var ws_proxy = comm_websocket_adapter(comm)\n",
       "\n",
       "    function ondownload(figure, format) {\n",
       "        window.open(figure.imageObj.src);\n",
       "    }\n",
       "\n",
       "    var fig = new mpl.figure(id, ws_proxy,\n",
       "                           ondownload,\n",
       "                           element.get(0));\n",
       "\n",
       "    // Call onopen now - mpl needs it, as it is assuming we've passed it a real\n",
       "    // web socket which is closed, not our websocket->open comm proxy.\n",
       "    ws_proxy.onopen();\n",
       "\n",
       "    fig.parent_element = element.get(0);\n",
       "    fig.cell_info = mpl.find_output_cell(\"<div id='\" + id + \"'></div>\");\n",
       "    if (!fig.cell_info) {\n",
       "        console.error(\"Failed to find cell for figure\", id, fig);\n",
       "        return;\n",
       "    }\n",
       "\n",
       "    var output_index = fig.cell_info[2]\n",
       "    var cell = fig.cell_info[0];\n",
       "\n",
       "};\n",
       "\n",
       "mpl.figure.prototype.handle_close = function(fig, msg) {\n",
       "    fig.root.unbind('remove')\n",
       "\n",
       "    // Update the output cell to use the data from the current canvas.\n",
       "    fig.push_to_output();\n",
       "    var dataURL = fig.canvas.toDataURL();\n",
       "    // Re-enable the keyboard manager in IPython - without this line, in FF,\n",
       "    // the notebook keyboard shortcuts fail.\n",
       "    IPython.keyboard_manager.enable()\n",
       "    $(fig.parent_element).html('<img src=\"' + dataURL + '\">');\n",
       "    fig.close_ws(fig, msg);\n",
       "}\n",
       "\n",
       "mpl.figure.prototype.close_ws = function(fig, msg){\n",
       "    fig.send_message('closing', msg);\n",
       "    // fig.ws.close()\n",
       "}\n",
       "\n",
       "mpl.figure.prototype.push_to_output = function(remove_interactive) {\n",
       "    // Turn the data on the canvas into data in the output cell.\n",
       "    var dataURL = this.canvas.toDataURL();\n",
       "    this.cell_info[1]['text/html'] = '<img src=\"' + dataURL + '\">';\n",
       "}\n",
       "\n",
       "mpl.figure.prototype.updated_canvas_event = function() {\n",
       "    // Tell IPython that the notebook contents must change.\n",
       "    IPython.notebook.set_dirty(true);\n",
       "    this.send_message(\"ack\", {});\n",
       "    var fig = this;\n",
       "    // Wait a second, then push the new image to the DOM so\n",
       "    // that it is saved nicely (might be nice to debounce this).\n",
       "    setTimeout(function () { fig.push_to_output() }, 1000);\n",
       "}\n",
       "\n",
       "mpl.figure.prototype._init_toolbar = function() {\n",
       "    var fig = this;\n",
       "\n",
       "    var nav_element = $('<div/>')\n",
       "    nav_element.attr('style', 'width: 100%');\n",
       "    this.root.append(nav_element);\n",
       "\n",
       "    // Define a callback function for later on.\n",
       "    function toolbar_event(event) {\n",
       "        return fig.toolbar_button_onclick(event['data']);\n",
       "    }\n",
       "    function toolbar_mouse_event(event) {\n",
       "        return fig.toolbar_button_onmouseover(event['data']);\n",
       "    }\n",
       "\n",
       "    for(var toolbar_ind in mpl.toolbar_items){\n",
       "        var name = mpl.toolbar_items[toolbar_ind][0];\n",
       "        var tooltip = mpl.toolbar_items[toolbar_ind][1];\n",
       "        var image = mpl.toolbar_items[toolbar_ind][2];\n",
       "        var method_name = mpl.toolbar_items[toolbar_ind][3];\n",
       "\n",
       "        if (!name) { continue; };\n",
       "\n",
       "        var button = $('<button class=\"btn btn-default\" href=\"#\" title=\"' + name + '\"><i class=\"fa ' + image + ' fa-lg\"></i></button>');\n",
       "        button.click(method_name, toolbar_event);\n",
       "        button.mouseover(tooltip, toolbar_mouse_event);\n",
       "        nav_element.append(button);\n",
       "    }\n",
       "\n",
       "    // Add the status bar.\n",
       "    var status_bar = $('<span class=\"mpl-message\" style=\"text-align:right; float: right;\"/>');\n",
       "    nav_element.append(status_bar);\n",
       "    this.message = status_bar[0];\n",
       "\n",
       "    // Add the close button to the window.\n",
       "    var buttongrp = $('<div class=\"btn-group inline pull-right\"></div>');\n",
       "    var button = $('<button class=\"btn btn-mini btn-primary\" href=\"#\" title=\"Stop Interaction\"><i class=\"fa fa-power-off icon-remove icon-large\"></i></button>');\n",
       "    button.click(function (evt) { fig.handle_close(fig, {}); } );\n",
       "    button.mouseover('Stop Interaction', toolbar_mouse_event);\n",
       "    buttongrp.append(button);\n",
       "    var titlebar = this.root.find($('.ui-dialog-titlebar'));\n",
       "    titlebar.prepend(buttongrp);\n",
       "}\n",
       "\n",
       "mpl.figure.prototype._root_extra_style = function(el){\n",
       "    var fig = this\n",
       "    el.on(\"remove\", function(){\n",
       "\tfig.close_ws(fig, {});\n",
       "    });\n",
       "}\n",
       "\n",
       "mpl.figure.prototype._canvas_extra_style = function(el){\n",
       "    // this is important to make the div 'focusable\n",
       "    el.attr('tabindex', 0)\n",
       "    // reach out to IPython and tell the keyboard manager to turn it's self\n",
       "    // off when our div gets focus\n",
       "\n",
       "    // location in version 3\n",
       "    if (IPython.notebook.keyboard_manager) {\n",
       "        IPython.notebook.keyboard_manager.register_events(el);\n",
       "    }\n",
       "    else {\n",
       "        // location in version 2\n",
       "        IPython.keyboard_manager.register_events(el);\n",
       "    }\n",
       "\n",
       "}\n",
       "\n",
       "mpl.figure.prototype._key_event_extra = function(event, name) {\n",
       "    var manager = IPython.notebook.keyboard_manager;\n",
       "    if (!manager)\n",
       "        manager = IPython.keyboard_manager;\n",
       "\n",
       "    // Check for shift+enter\n",
       "    if (event.shiftKey && event.which == 13) {\n",
       "        this.canvas_div.blur();\n",
       "        // select the cell after this one\n",
       "        var index = IPython.notebook.find_cell_index(this.cell_info[0]);\n",
       "        IPython.notebook.select(index + 1);\n",
       "    }\n",
       "}\n",
       "\n",
       "mpl.figure.prototype.handle_save = function(fig, msg) {\n",
       "    fig.ondownload(fig, null);\n",
       "}\n",
       "\n",
       "\n",
       "mpl.find_output_cell = function(html_output) {\n",
       "    // Return the cell and output element which can be found *uniquely* in the notebook.\n",
       "    // Note - this is a bit hacky, but it is done because the \"notebook_saving.Notebook\"\n",
       "    // IPython event is triggered only after the cells have been serialised, which for\n",
       "    // our purposes (turning an active figure into a static one), is too late.\n",
       "    var cells = IPython.notebook.get_cells();\n",
       "    var ncells = cells.length;\n",
       "    for (var i=0; i<ncells; i++) {\n",
       "        var cell = cells[i];\n",
       "        if (cell.cell_type === 'code'){\n",
       "            for (var j=0; j<cell.output_area.outputs.length; j++) {\n",
       "                var data = cell.output_area.outputs[j];\n",
       "                if (data.data) {\n",
       "                    // IPython >= 3 moved mimebundle to data attribute of output\n",
       "                    data = data.data;\n",
       "                }\n",
       "                if (data['text/html'] == html_output) {\n",
       "                    return [cell, data, j];\n",
       "                }\n",
       "            }\n",
       "        }\n",
       "    }\n",
       "}\n",
       "\n",
       "// Register the function which deals with the matplotlib target/channel.\n",
       "// The kernel may be null if the page has been refreshed.\n",
       "if (IPython.notebook.kernel != null) {\n",
       "    IPython.notebook.kernel.comm_manager.register_target('matplotlib', mpl.mpl_figure_comm);\n",
       "}\n"
      ],
      "text/plain": [
       "<IPython.core.display.Javascript object>"
      ]
     },
     "metadata": {},
     "output_type": "display_data"
    },
    {
     "data": {
      "text/html": [
       "<img src=\"data:image/png;base64,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\">"
      ],
      "text/plain": [
       "<IPython.core.display.HTML object>"
      ]
     },
     "metadata": {},
     "output_type": "display_data"
    },
    {
     "data": {
      "text/plain": [
       "(array([  1.00000000e+00,   2.00000000e+00,   0.00000000e+00,\n",
       "          4.00000000e+00,   0.00000000e+00,   2.00000000e+00,\n",
       "          1.20000000e+01,   5.60000000e+01,   9.62900000e+03,\n",
       "          1.31800000e+03,   6.58200000e+03,   1.14530000e+04,\n",
       "          8.89300000e+03,   5.87700000e+03,   3.44400000e+03,\n",
       "          1.64200000e+03,   6.99000000e+02,   2.13000000e+02,\n",
       "          1.14000000e+02,   2.80000000e+01,   9.00000000e+00,\n",
       "          1.90000000e+01,   0.00000000e+00,   0.00000000e+00,\n",
       "          3.00000000e+00]),\n",
       " array([-3.28232  , -2.8916744, -2.5010288, -2.1103832, -1.7197376,\n",
       "        -1.329092 , -0.9384464, -0.5478008, -0.1571552,  0.2334904,\n",
       "         0.624136 ,  1.0147816,  1.4054272,  1.7960728,  2.1867184,\n",
       "         2.577364 ,  2.9680096,  3.3586552,  3.7493008,  4.1399464,\n",
       "         4.530592 ,  4.9212376,  5.3118832,  5.7025288,  6.0931744,  6.48382  ]),\n",
       " <a list of 25 Patch objects>)"
      ]
     },
     "execution_count": 12,
     "metadata": {},
     "output_type": "execute_result"
    }
   ],
   "source": [
    "mag_diff = sdss_spec['psfMag_g']-sdss_spec['modelMag_g']\n",
    "\n",
    "fig=plt.figure()\n",
    "ax=fig.add_subplot(111)\n",
    "ax.hist(mag_diff, bins=25)"
   ]
  },
  {
   "cell_type": "markdown",
   "metadata": {
    "slideshow": {
     "slide_type": "slide"
    }
   },
   "source": [
    "Pandas can also be used to aggregate the results of a search.\n",
    "\n",
    "**Problem 3d**\n",
    "\n",
    "How many extended sources (`type` = `ext`) have `modelMag_i` between 19 and 20? Use as few lines as possible."
   ]
  },
  {
   "cell_type": "code",
   "execution_count": null,
   "metadata": {
    "collapsed": true,
    "slideshow": {
     "slide_type": "subslide"
    }
   },
   "outputs": [],
   "source": [
    "lum=sdss_spec[sdss_spec.type=='ext' &]"
   ]
  },
  {
   "cell_type": "markdown",
   "metadata": {
    "slideshow": {
     "slide_type": "slide"
    }
   },
   "source": [
    "`pandas` also enables [`GROUP BY`](http://pandas.pydata.org/pandas-docs/stable/user_guide/groupby.html) operations, where the data are split based on some criterion, a function is then applied to the groups, and the results are then combined back into a data structure."
   ]
  },
  {
   "cell_type": "markdown",
   "metadata": {
    "slideshow": {
     "slide_type": "slide"
    }
   },
   "source": [
    "**Problem 3e**\n",
    "\n",
    "Group the data by their `type` and then report the minimum, median, and maximum redshift of each group. Can you immediately tell anything about these sources based on these results?\n",
    "\n",
    "*Hint* - just execute the cell below."
   ]
  },
  {
   "cell_type": "code",
   "execution_count": 13,
   "metadata": {
    "collapsed": false,
    "slideshow": {
     "slide_type": "subslide"
    }
   },
   "outputs": [
    {
     "name": "stdout",
     "output_type": "stream",
     "text": [
      "type\n",
      "ext   -0.005469\n",
      "ps    -0.010875\n",
      "Name: z, dtype: float64\n",
      "type\n",
      "ext    0.107352\n",
      "ps     0.000275\n",
      "Name: z, dtype: float64\n",
      "type\n",
      "ext    6.839257\n",
      "ps     6.687022\n",
      "Name: z, dtype: float64\n"
     ]
    }
   ],
   "source": [
    "grouped = sdss_spec.groupby([sdss_spec.type])\n",
    "print(grouped['z'].min())\n",
    "print(grouped['z'].median())\n",
    "print(grouped['z'].max())"
   ]
  },
  {
   "cell_type": "markdown",
   "metadata": {
    "slideshow": {
     "slide_type": "slide"
    }
   },
   "source": [
    "Finally, we have only briefly discussed joining tables, but this is where relational databases really shine.\n",
    "\n",
    "For this example we only have a single table, so we will exclude any examples of a `pandas` join, but there is functionality to [join or merge](https://pandas.pydata.org/pandas-docs/stable/user_guide/merging.html) dataframes in a fashion that is fully analogous to databases."
   ]
  },
  {
   "cell_type": "markdown",
   "metadata": {
    "slideshow": {
     "slide_type": "slide"
    }
   },
   "source": [
    "In summary, there are many different possible solutions for data storage and management. \n",
    "\n",
    "For \"medium\" to \"big\" data that won't easily fit into memory ($\\sim$16 GB), it is likely that a database is your best solution. For slightly smaller problems `pandas` provides a really nice, lightweight alternative to a full blown database that nevertheless maintains a lot of the same functionality and power."
   ]
  },
  {
   "cell_type": "markdown",
   "metadata": {
    "slideshow": {
     "slide_type": "slide"
    }
   },
   "source": [
    "## Problem 4) We Aren't Done Talking About Your Laptop's Inadequacies"
   ]
  },
  {
   "cell_type": "markdown",
   "metadata": {
    "slideshow": {
     "slide_type": "slide"
    }
   },
   "source": [
    "So far we have been focused on only a single aspect of computing: storage (and your laptop sucks at that). \n",
    "\n",
    "But here's the thing - your laptop is also incredibly slow."
   ]
  },
  {
   "cell_type": "markdown",
   "metadata": {
    "slideshow": {
     "slide_type": "subslide"
    }
   },
   "source": [
    "Supposing for a moment that you could hold all (or even a significant fraction) of the information from LSST in memory on your laptop, you would still be out of luck, as you would die before you could actually process the data and make any meaningful calculations.\n",
    "\n",
    "(we argued that it would take [$\\sim$200 yr to process LSST on your laptop](https://github.com/LSSTC-DSFP/LSSTC-DSFP-Sessions/blob/master/Session5/Day1/PhotonsArentScienceSolutions.ipynb) in Session 5)"
   ]
  },
  {
   "cell_type": "markdown",
   "metadata": {
    "slideshow": {
     "slide_type": "subslide"
    }
   },
   "source": [
    "You are in luck, however, as you need not limit yourself to your laptop. You can take advantage of multiple computers, also known  as parallel processing.\n",
    "\n",
    "At a previous session, I asked Robert Lupton, one of the primary developers of the LSST photometric pipeline, \"How many CPUs are being used to process LSST data?\" To which he replied, \"However many are needed to process everything within 1 month.\""
   ]
  },
  {
   "cell_type": "markdown",
   "metadata": {
    "slideshow": {
     "slide_type": "subslide"
    }
   },
   "source": [
    "The critical point here is that if you can figure out how to split a calculation over multiple computers, then you can finish any calculation arbitrarily fast with enough processors (to within some limits, like the speed of light, etc)"
   ]
  },
  {
   "cell_type": "markdown",
   "metadata": {
    "slideshow": {
     "slide_type": "slide"
    }
   },
   "source": [
    "We will spend a lot more time talking about both efficient algorithm design and parallel processing later this week, but I want to close with a quick example that touches on each of these things."
   ]
  },
  {
   "cell_type": "markdown",
   "metadata": {
    "slideshow": {
     "slide_type": "subslide"
    }
   },
   "source": [
    "Suppose that you have some 2k x 2k detector (i.e. 4 million pixels), and you need to manipulate the data in that array. For instance, the detector will report the number of counts per pixel, but this number is larger than the actual number of detected photons by a factor $g$, the gain of the telescope.\n",
    "\n",
    "How long does it take divide every pixel by the gain?"
   ]
  },
  {
   "cell_type": "markdown",
   "metadata": {
    "slideshow": {
     "slide_type": "subslide"
    }
   },
   "source": [
    "(This is where I spend a moment telling you that - if you are going to time portions of your code as a means of measuring performance it is essential that you turn off *everything else* that may be running on your computer, as background processes can mess up your timing results)"
   ]
  },
  {
   "cell_type": "code",
   "execution_count": 14,
   "metadata": {
    "collapsed": false,
    "slideshow": {
     "slide_type": "subslide"
    }
   },
   "outputs": [
    {
     "name": "stdout",
     "output_type": "stream",
     "text": [
      "It takes 2.122289 s to correct for the gain\n"
     ]
    }
   ],
   "source": [
    "import time\n",
    "\n",
    "pixel_data = np.random.rand(4000000)\n",
    "photons = np.empty_like(pixel_data)\n",
    "\n",
    "tstart = time.time()\n",
    "for pix_num, pixel in enumerate(pixel_data):\n",
    "    photons[pix_num] = pixel/8\n",
    "trun = time.time() - tstart\n",
    "print('It takes {:.6f} s to correct for the gain'.format(trun))"
   ]
  },
  {
   "cell_type": "markdown",
   "metadata": {
    "slideshow": {
     "slide_type": "subslide"
    }
   },
   "source": [
    "1.5 s isn't too bad in the grand scheme of things. \n",
    "\n",
    "Except that this example should make you cringe. There is absolutely no need to use a for loop for these operations.\n",
    "\n",
    "This brings us to fast coding lesson number 1 - **vectorize everything**."
   ]
  },
  {
   "cell_type": "code",
   "execution_count": 15,
   "metadata": {
    "collapsed": false,
    "slideshow": {
     "slide_type": "subslide"
    }
   },
   "outputs": [
    {
     "name": "stdout",
     "output_type": "stream",
     "text": [
      "It takes 0.013135 s to correct for the gain\n"
     ]
    }
   ],
   "source": [
    "photons = np.empty_like(pixel_data)\n",
    "\n",
    "tstart = time.time()\n",
    "photons = pixel_data/8\n",
    "trun = time.time() - tstart\n",
    "print('It takes {:.6f} s to correct for the gain'.format(trun))"
   ]
  },
  {
   "cell_type": "markdown",
   "metadata": {
    "slideshow": {
     "slide_type": "subslide"
    }
   },
   "source": [
    "By removing the for loop we improve the speed of this particular calculation by a factor of $\\sim$125. That is a massive win."
   ]
  },
  {
   "cell_type": "markdown",
   "metadata": {
    "slideshow": {
     "slide_type": "subslide"
    }
   },
   "source": [
    "Alternatively, we could have sped up the operations via the use of parallel programing. The [`multiprocessing`](https://docs.python.org/2/library/multiprocessing.html) library in python makes it relatively easy to implement parallel operations. There are many different ways to implement parallel processing in python, here we will just use one simple example.\n",
    "\n",
    "(again, we will go over multiprocessing in far more detail later this week)"
   ]
  },
  {
   "cell_type": "code",
   "execution_count": 16,
   "metadata": {
    "collapsed": false,
    "slideshow": {
     "slide_type": "subslide"
    }
   },
   "outputs": [
    {
     "name": "stdout",
     "output_type": "stream",
     "text": [
      "It takes 25.825559 s to correct for the gain\n"
     ]
    }
   ],
   "source": [
    "from multiprocessing import Pool\n",
    "\n",
    "def divide_by_gain(number, gain=8):\n",
    "    return number/gain\n",
    "\n",
    "pool = Pool()\n",
    "\n",
    "tstart = time.time()\n",
    "photons = pool.map(divide_by_gain, pixel_data)\n",
    "trun = time.time() - tstart\n",
    "print('It takes {:.6f} s to correct for the gain'.format(trun))"
   ]
  },
  {
   "cell_type": "markdown",
   "metadata": {
    "slideshow": {
     "slide_type": "subslide"
    }
   },
   "source": [
    "Wait, parallel processing slows this down by a factor $\\sim$7? What's going on here? \n",
    "\n",
    "It turns out there is some overhead in copying the data and spawning multiple processes, and in this case that overhead is enormous. Of course, for more complex functions/operations (here we were only doing simple division), that overhead is tiny compared to the individual calculations and using multiple processors can lead to almost an $N$x gain in speed, where $N$ is the number of processors available."
   ]
  },
  {
   "cell_type": "markdown",
   "metadata": {
    "slideshow": {
     "slide_type": "subslide"
    }
   },
   "source": [
    "This brings me to fast coding lesson number 2 - **before you parallelize, profile**. (We will talk more about software profiling later in the week), but in short - there is no point to parallelizing inefficient operations. Even if the parallel gain calculation provided a factor of $\\sim$4 (the number of CPUS on my machine) speed up relative to our initial for loop, that factor of 4 is a waste compared to the factor of 125 gained by vectorizing the code."
   ]
  },
  {
   "cell_type": "markdown",
   "metadata": {
    "slideshow": {
     "slide_type": "slide"
    }
   },
   "source": [
    "## Conclusions"
   ]
  },
  {
   "cell_type": "markdown",
   "metadata": {
    "slideshow": {
     "slide_type": "subslide"
    }
   },
   "source": [
    "As we go through this week - think about the types of problems that you encounter in your own workflow, and consider how you might be able to improve that workflow by moving off of your laptop.\n",
    "\n",
    "This may come in several forms, including: superior data organization, better data structures (`pandas` or databases), more efficient algorithms, and finally parallel processing."
   ]
  }
 ],
 "metadata": {
  "kernelspec": {
   "display_name": "Python 3",
   "language": "python",
   "name": "python3"
  }
 },
 "nbformat": 4,
 "nbformat_minor": 2
}
