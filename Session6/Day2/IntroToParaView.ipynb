{
 "cells": [
  {
   "cell_type": "code",
   "execution_count": 2,
   "metadata": {
    "collapsed": true,
    "slideshow": {
     "slide_type": "skip"
    }
   },
   "outputs": [],
   "source": [
    "import numpy as np\n",
    "import matplotlib.pyplot as plt\n",
    "%matplotlib notebook"
   ]
  },
  {
   "cell_type": "markdown",
   "metadata": {
    "slideshow": {
     "slide_type": "skip"
    }
   },
   "source": [
    "First and foremost, you should have already installed ParaView on your machine. If not, you can [download the package](https://www.paraview.org/download/) from [paraview.org](https://www.paraview.org)."
   ]
  },
  {
   "cell_type": "markdown",
   "metadata": {
    "slideshow": {
     "slide_type": "slide"
    }
   },
   "source": [
    "# An Introduction to ParaView\n",
    "\n",
    "**version 0.1**\n",
    "\n",
    "***\n",
    "\n",
    "Adam A Miller (Northwestern CIERA/Adler Planetarium)\n",
    "01 May 2018"
   ]
  },
  {
   "cell_type": "markdown",
   "metadata": {
    "slideshow": {
     "slide_type": "slide"
    }
   },
   "source": [
    "Our data do not live in 2 dimensions... \n",
    "\n",
    "[As the third grade version of me would say, *\"Ummmm, Mr. Miller? Duh!\"*]"
   ]
  },
  {
   "cell_type": "markdown",
   "metadata": {
    "slideshow": {
     "slide_type": "slide"
    }
   },
   "source": [
    "And yet, a fundamental limitation we that consisently place upon ourselves is to insist that we represent the data in 2D when communicating with the public and our colleagues. \n",
    "\n",
    "In a sense, we are doing science with 1 arm tied behind our backs..."
   ]
  },
  {
   "cell_type": "markdown",
   "metadata": {
    "slideshow": {
     "slide_type": "slide"
    }
   },
   "source": [
    "Our data also do not live in 3 dimensions.\n",
    "\n",
    "But I can think of a distinct advantage to moving to 3D representations: our spatial representation of the Universe can be fully described in 3 dimensions. \n",
    "\n",
    "Thus, if we want to describe the positions of stars in a cluster (*Gaia*?), or show variations in density within a Giant Molecular Cloud, or examine the surface of a minor planet or asteroid, these tasks are all acomplished much better in 3D."
   ]
  },
  {
   "cell_type": "markdown",
   "metadata": {
    "slideshow": {
     "slide_type": "subslide"
    }
   },
   "source": [
    "(ignoring special relativity for now...)"
   ]
  },
  {
   "cell_type": "markdown",
   "metadata": {
    "slideshow": {
     "slide_type": "slide"
    }
   },
   "source": [
    "Why interactive?\n",
    "\n",
    "It would not be unreasonable to take the following stance: the heavy lifting in exploring a data set should be done by the researchers. In this sense, \"final\" plots or renditions can be presented to an audience via a slide or paper that summarize all of the salient features."
   ]
  },
  {
   "cell_type": "markdown",
   "metadata": {
    "slideshow": {
     "slide_type": "slide"
    }
   },
   "source": [
    "What if, however, you wish to enable science, or discovery, for amatuers (e.g., the [Zooniverse](https://www.zooniverse.org/), or even in the classroom (see James's talk from yesterday)? \n",
    "\n",
    "It is unfair to ask this audience to calculate integrals, or to develop even a small fraction of the domain expertise that you and your colleagues (PhDs and PhD candidates) have. Interactivity provides a natural way for this audience to explore the data."
   ]
  },
  {
   "cell_type": "markdown",
   "metadata": {
    "slideshow": {
     "slide_type": "slide"
    }
   },
   "source": [
    "Furthermore, it may even *help you* in your quest for discovery and understaning."
   ]
  },
  {
   "cell_type": "markdown",
   "metadata": {
    "slideshow": {
     "slide_type": "slide"
    }
   },
   "source": [
    "So, today –– [ParaView](https://www.paraview.org/)"
   ]
  },
  {
   "cell_type": "markdown",
   "metadata": {
    "slideshow": {
     "slide_type": "slide"
    }
   },
   "source": [
    "ParaView is an open source platform that was specifically designed for data analysis and visualization. Briefly, ParaView is interesting (for us) for several reasons: \n",
    "\n",
    "  1. General purpose and can easily be used on laptop or HPC\n",
    "  2. Naturally utilizes multiple processors for handling large data sets (in particular 3D)\n",
    "  3. Includes a scripting interface (via Python)"
   ]
  },
  {
   "cell_type": "markdown",
   "metadata": {
    "slideshow": {
     "slide_type": "slide"
    }
   },
   "source": [
    "Ultimately, we want to turn data (images, measurements, spectra, etc) into some rendering to represent the data in a way that provides insight or better understanding [for all viz, not just ParaView].\n",
    "\n",
    "ParaView takes VTK, the Visualization Toolkit, data as an input (later you will create some VTK files)."
   ]
  },
  {
   "cell_type": "markdown",
   "metadata": {
    "slideshow": {
     "slide_type": "slide"
    }
   },
   "source": [
    "VTK uses a basic data-flow paradigm, in which data flows through the system while being transformed at each step [via modules known as algorithms]. Algorithms have input ports to take data, and output ports to produce output:\n",
    "\n",
    "  * Sources do not have input ports, but have outputs [i.e. to get data into the system, e.g., reading a file]\n",
    "  * Sinks convert input into graphics such that they can be rendered \n",
    "  * Filters are intermediate algorithms, that convert input into output"
   ]
  },
  {
   "cell_type": "markdown",
   "metadata": {
    "slideshow": {
     "slide_type": "slide"
    }
   },
   "source": [
    "Connecting sources, sinks, and filters can create arbitrarily complicated visual renderings. \n",
    "\n",
    "<img style=\"display: block; margin-left: auto; margin-right: auto\" src=\"./images/pv_visualization_model.png\" align=\"middle\">\n",
    "\n",
    "<div align=\"right\"> <font size=\"-3\">(credit: ParaView Guide) </font></div>"
   ]
  },
  {
   "cell_type": "markdown",
   "metadata": {
    "slideshow": {
     "slide_type": "slide"
    }
   },
   "source": [
    "Following this brief introduction, we will start the visual exploration with ParaView. "
   ]
  },
  {
   "cell_type": "markdown",
   "metadata": {
    "slideshow": {
     "slide_type": "slide"
    }
   },
   "source": [
    "## Problem 1) Creating an Interactive Sphere\n",
    "\n",
    "We will begin by creating a simple 3D object (a sphere). While there is nothing spectacular about a sphere, I'll note that it is not particularly easy to represent a(n interactive) sphere in `matplotlib`."
   ]
  },
  {
   "cell_type": "markdown",
   "metadata": {
    "slideshow": {
     "slide_type": "slide"
    }
   },
   "source": [
    "**Problem 1a**\n",
    "\n",
    "Open paraview. \n",
    "\n",
    "Create a sphere. [*Sources $\\rightarrow$ Sphere*]"
   ]
  },
  {
   "cell_type": "markdown",
   "metadata": {
    "slideshow": {
     "slide_type": "slide"
    }
   },
   "source": [
    "At this stage you will notice that nothing is yet visible in the layout panel. However, a few things have happened.\n",
    "\n",
    "There is now a pipeline module in the pipeline browser (upper left panel). Properties of the sphere can be adjusted in the properties panel (lower left). Finally, the *Apply* button in the properties panel is now active."
   ]
  },
  {
   "cell_type": "markdown",
   "metadata": {
    "slideshow": {
     "slide_type": "slide"
    }
   },
   "source": [
    "While this is not the case for this particular data set, because data ingestion and manipulation can be highly time consuming, ParaView allows you to perform those operations prior to rendering the data. \n",
    "\n",
    "The *Apply* button allows you to accept those changes before proceeding. "
   ]
  },
  {
   "cell_type": "markdown",
   "metadata": {
    "slideshow": {
     "slide_type": "slide"
    }
   },
   "source": [
    "**Problem 1b**\n",
    "\n",
    "Render the sphere [click *Apply*].\n",
    "\n",
    "Use your mouse to inspect, rotate, and examine the sphere."
   ]
  },
  {
   "cell_type": "markdown",
   "metadata": {
    "slideshow": {
     "slide_type": "slide"
    }
   },
   "source": [
    "**Problem 1c**\n",
    "\n",
    "Adjust the center of the sphere to the position [0,0,1], and adjust the radius to 1. "
   ]
  },
  {
   "cell_type": "markdown",
   "metadata": {
    "slideshow": {
     "slide_type": "slide"
    }
   },
   "source": [
    "**Problem 1d**\n",
    "\n",
    "Make the sphere appear more \"spherical\" by adjusting theta resolution to 100. "
   ]
  },
  {
   "cell_type": "markdown",
   "metadata": {
    "slideshow": {
     "slide_type": "slide"
    }
   },
   "source": [
    "There are a variety of filters that can be applied to the data (in the *Filters* menu). The available filters are dependent on the data type provided to ParaView.\n",
    "\n",
    "**Problem 1e**\n",
    "\n",
    "Shrink the size of the mesh cells on the surface of the sphere. [*Filters* $\\rightarrow$ *Alphabetical*  $\\rightarrow$ *Shrink*]\n",
    "\n",
    "Can you see the shrunken mesh cells?"
   ]
  },
  {
   "cell_type": "markdown",
   "metadata": {
    "slideshow": {
     "slide_type": "slide"
    }
   },
   "source": [
    "## Problem 2) Python Scripting a Sphere\n",
    "\n",
    "ParaView provides a python scripting interface. The package, `pvpython`, makes it possible to script up everything that one might want to do with paraview, using `python` (!). \n",
    "\n",
    "The ability to script these tasks is hugely important for reproducibility (and more advanced versions of automated analysis). "
   ]
  },
  {
   "cell_type": "markdown",
   "metadata": {
    "slideshow": {
     "slide_type": "slide"
    }
   },
   "source": [
    "Unfortunately, (as far as I can tell) `pvpython` is only compatible with `python` version 2.x, and it will not run within our DSFP conda environment. Forunately, ParaView ships with an internal `python` interpreter, so we are going to use that for now."
   ]
  },
  {
   "cell_type": "markdown",
   "metadata": {
    "slideshow": {
     "slide_type": "slide"
    }
   },
   "source": [
    "**Problem 2a**\n",
    "\n",
    "Open the `python` interpreter. [*View $\\rightarrow$ Python Shell*]\n",
    "\n",
    "This will open a `python` (likely v2.7.10) instance just below the layout panel."
   ]
  },
  {
   "cell_type": "markdown",
   "metadata": {
    "slideshow": {
     "slide_type": "slide"
    }
   },
   "source": [
    "Unfortunately, at this stage there are many panels, and not a lot of room to inspect the visualization. Ideally a lot of this work would be done on larger screens, but we will for now work with what we have.\n",
    "\n",
    "[If space is really at a premium on your screen, you can remove the pipeline browser and properties window as everything will be scripted for the remainder of this problem.]"
   ]
  },
  {
   "cell_type": "markdown",
   "metadata": {
    "slideshow": {
     "slide_type": "slide"
    }
   },
   "source": [
    "Before we proceed - remove the previously created sphere from the layout panel. [Click on Shrink, then click the *delete* button in the properties tab. Click on Sphere1, then click the *delete* button in the properties tab.]"
   ]
  },
  {
   "cell_type": "markdown",
   "metadata": {
    "slideshow": {
     "slide_type": "slide"
    }
   },
   "source": [
    "**Problem 2b**\n",
    "\n",
    "Create the sphere data source using the `python` interpreter.\n",
    "\n",
    "    Sphere()"
   ]
  },
  {
   "cell_type": "markdown",
   "metadata": {
    "slideshow": {
     "slide_type": "slide"
    }
   },
   "source": [
    "As before, we have created an active source in the pipeline. However, the sphere has not been rendered.\n",
    "\n",
    "**Problem 2c**\n",
    "\n",
    "Show the active source. \n",
    "\n",
    "    Show()      # prepare the display\n",
    "    Render()    # render the visualization"
   ]
  },
  {
   "cell_type": "markdown",
   "metadata": {
    "slideshow": {
     "slide_type": "slide"
    }
   },
   "source": [
    "**Problem 2d**\n",
    "\n",
    "Adjust the properties of the sphere to match those in **Problem 1**.\n",
    "\n",
    "    SetProperties(radius=1.0)\n",
    "    SetProperties(Center=[0,0,1])"
   ]
  },
  {
   "cell_type": "markdown",
   "metadata": {
    "slideshow": {
     "slide_type": "slide"
    }
   },
   "source": [
    "In addition to `SetProperties` for the data, you can also use `SetDisplayProperties` to adjust the geometric represenation of the data."
   ]
  },
  {
   "cell_type": "markdown",
   "metadata": {
    "slideshow": {
     "slide_type": "slide"
    }
   },
   "source": [
    "**Problem 2e**\n",
    "\n",
    "Set the opacity of the sphere to 0.2.\n",
    "\n",
    "    SetDisplayProperties(0.2)"
   ]
  },
  {
   "cell_type": "markdown",
   "metadata": {
    "slideshow": {
     "slide_type": "slide"
    }
   },
   "source": [
    "As before, we can also create filters via `pvpython`. Again, we will shrink the size of the mesh cells on the sphere."
   ]
  },
  {
   "cell_type": "markdown",
   "metadata": {
    "slideshow": {
     "slide_type": "slide"
    }
   },
   "source": [
    "**Problem 2f**\n",
    "\n",
    "Shrink the mesh cells on the surface of the sphere (using only python commands).\n",
    "\n",
    "    Shrink()\n",
    "\n",
    "*Hint* - don't forget to render the object."
   ]
  },
  {
   "cell_type": "markdown",
   "metadata": {
    "slideshow": {
     "slide_type": "slide"
    }
   },
   "source": [
    "Does this look like the rendering that we created previously?\n",
    "\n",
    "When scripting ParaView, the input data set is not automatically hidden after creating a new output. Instead, these actions must be done explicitly. There are a few different ways to handle this (below is an example that leverages an object oriented approach – meaning you need to start over to follow this)."
   ]
  },
  {
   "cell_type": "markdown",
   "metadata": {
    "slideshow": {
     "slide_type": "slide"
    }
   },
   "source": [
    "**Problem 2g**\n",
    "\n",
    "Using python remove the sphere instance from the rendition of the sphere.\n",
    "\n",
    "    sphereInstance = Sphere()\n",
    "    sphereInstance.Radius = 1.0\n",
    "    sphereInstance.Center[2] = 1.0\n",
    "    print sphereInstance.Center\n",
    "\n",
    "    sphereDisplay = Show(sphereInstance) \n",
    "    view = Render () \n",
    "    sphereDisplay.Opacity = 0.7\n",
    "\n",
    "    Render(view)\n",
    "\n",
    "    shrinkInstance = Shrink(Input=sphereInstance , ShrinkFactor=1.0)\n",
    "    print shrinkInstance.ShrinkFactor\n",
    "    Hide(sphereInstance)\n",
    "    shrinkDisplay = Show(shrinkInstance) \n",
    "    Render()"
   ]
  },
  {
   "cell_type": "markdown",
   "metadata": {
    "slideshow": {
     "slide_type": "slide"
    }
   },
   "source": [
    "## Problem 3) Scripting An Interactive Sphere\n",
    "\n",
    "Finally, it is possible to capture the commands executed via the GUI as a python script. In this way it is easy to reproduce an interactive session."
   ]
  },
  {
   "cell_type": "markdown",
   "metadata": {
    "slideshow": {
     "slide_type": "slide"
    }
   },
   "source": [
    "**Problem 3a**\n",
    "\n",
    "Trace your interactive commands [*Tools $\\rightarrow$ Start Trace*]"
   ]
  },
  {
   "cell_type": "markdown",
   "metadata": {
    "slideshow": {
     "slide_type": "slide"
    }
   },
   "source": [
    "**Problem 3b**\n",
    "\n",
    "Recrete a sphere following the steps from **Problem 1**.\n",
    "\n",
    "How does your trace compare to the script that you developed in **Problem 2**?"
   ]
  },
  {
   "cell_type": "markdown",
   "metadata": {
    "slideshow": {
     "slide_type": "slide"
    }
   },
   "source": [
    "**Break Out Problem**\n",
    "\n",
    "Of the 3 modes covered in Problems 1, 2, and 3 - which is to be preferred?\n",
    "\n",
    "[*spend a few minutes discussing with your neighbor*]"
   ]
  },
  {
   "cell_type": "markdown",
   "metadata": {
    "slideshow": {
     "slide_type": "slide"
    }
   },
   "source": [
    "## Problem 4) Getting Data Into ParaView"
   ]
  },
  {
   "cell_type": "markdown",
   "metadata": {
    "slideshow": {
     "slide_type": "slide"
    }
   },
   "source": [
    "Spheres are all well and good, but what we truly care about is visualizing our astronomical data.\n",
    "\n",
    "Unfortunately, this is not as simple as `plot(x,y)` or even `plot(x,y,z)` as you might expect for something designed to play nicely with `python`."
   ]
  },
  {
   "cell_type": "markdown",
   "metadata": {
    "slideshow": {
     "slide_type": "slide"
    }
   },
   "source": [
    "Instead, we need to package the data as [Visualization Toolkit](https://www.vtk.org), or vtk, files.\n",
    "\n",
    "Even more unfortunately, vtk are binary files that are known to be somewhat challenging to work with.\n",
    "\n",
    "Nevertheless, many of the most common/powerful 3D rendering programs (ParaView, Mayavi, etc), utilize vtk data."
   ]
  },
  {
   "cell_type": "markdown",
   "metadata": {
    "slideshow": {
     "slide_type": "subslide"
    }
   },
   "source": [
    "If I am being completely honest – and I always try to be completely honest – I don't know a lot about vtk, or why it's an especially useful format for these programs. \n",
    "\n",
    "Nevertheless, I will try to provide you with some insight (i.e. repeat what other people have said) on the vtk format."
   ]
  },
  {
   "cell_type": "markdown",
   "metadata": {
    "slideshow": {
     "slide_type": "slide"
    }
   },
   "source": [
    "Briefly, the vtk representation of data requires the specification of a geometry or topology, and then the data set properties are specified within the chosen geometry. vtk can handle points or cells data in five different formats: structured points, structured grid, rectilinear grid, unstructured grid, and polygonal data."
   ]
  },
  {
   "cell_type": "markdown",
   "metadata": {
    "slideshow": {
     "slide_type": "slide"
    }
   },
   "source": [
    "Structured points is the most simple format, wherein only the mesh dimensions (nx, ny, nz), mesh origin (x0, y0, z0), and cell dimensions (dx, dy, dz) are specified.\n",
    "\n",
    "<img style=\"display: block; margin-left: auto; margin-right: auto\" src=\"./images/Structured_points.png\" align=\"middle\">\n",
    "\n",
    "<div align=\"right\"> <font size=\"-3\">(credit: https://www.vtk.org/Wiki/VTK/Writing_VTK_files_using_python) </font></div>"
   ]
  },
  {
   "cell_type": "markdown",
   "metadata": {
    "slideshow": {
     "slide_type": "slide"
    }
   },
   "source": [
    "Rectilinear grid is also regularly spaced, but the spacing is not uniform. Thus, nodes must be specified along the given axes Ox, Oy, and Oz. \n",
    "\n",
    "<img style=\"display: block; margin-left: auto; margin-right: auto\" src=\"./images/Rectilinear_grid.png\" align=\"middle\">\n",
    "\n",
    "<div align=\"right\"> <font size=\"-3\">(credit: https://www.vtk.org/Wiki/VTK/Writing_VTK_files_using_python) </font></div>"
   ]
  },
  {
   "cell_type": "markdown",
   "metadata": {
    "slideshow": {
     "slide_type": "slide"
    }
   },
   "source": [
    "Structured grid is not regular or uniform. Thus, the nodes for every point within the mesh must be specified.\n",
    "\n",
    "<img style=\"display: block; margin-left: auto; margin-right: auto\" src=\"./images/Structured_grid.png\" align=\"middle\">\n",
    "\n",
    "<div align=\"right\"> <font size=\"-3\">(credit: https://www.vtk.org/Wiki/VTK/Writing_VTK_files_using_python) </font></div>"
   ]
  },
  {
   "cell_type": "markdown",
   "metadata": {
    "slideshow": {
     "slide_type": "slide"
    }
   },
   "source": [
    "Unstructured grid is a structured grid, but it can handle cell data (not just point data).\n",
    "\n",
    "Polygonal data is the most complicated (and thus provides a great deal of representational freedom), but we are going to ignore this for now."
   ]
  },
  {
   "cell_type": "markdown",
   "metadata": {
    "slideshow": {
     "slide_type": "slide"
    }
   },
   "source": [
    "As I mentioned previously, formatting data as vtk files is a bit of a pain. Fortuantely, there is a python package `pyevtk` that makes the process relatively painless."
   ]
  },
  {
   "cell_type": "markdown",
   "metadata": {
    "slideshow": {
     "slide_type": "skip"
    }
   },
   "source": [
    "You should have already installed `pyevtk`, but if not you can run: \n",
    "\n",
    "    pip install pyevtk"
   ]
  },
  {
   "cell_type": "code",
   "execution_count": 3,
   "metadata": {
    "collapsed": true,
    "slideshow": {
     "slide_type": "slide"
    }
   },
   "outputs": [],
   "source": [
    "from pyevtk.hl import gridToVTK, pointsToVTK"
   ]
  },
  {
   "cell_type": "markdown",
   "metadata": {
    "slideshow": {
     "slide_type": "slide"
    }
   },
   "source": [
    "We will start with a relatively straightforward example of creating a collection of points in 3 dimentions\n",
    "\n",
    "**Problem 4a**\n",
    "\n",
    "Create 3 arrays, `x, y, z`, of 500 points each that consist of random draws from independent gaussian distributions with mean 0 and standard deviation 20.\n",
    "\n",
    "Evalute the temperature and density on the grid provided below.\n",
    "\n",
    "$$T = 2.4/x + 0.04y^2 + 5/z$$\n",
    "$$\\rho = 1.11x^2 + 3.1y + 0.6z^2$$"
   ]
  },
  {
   "cell_type": "code",
   "execution_count": 5,
   "metadata": {
    "slideshow": {
     "slide_type": "slide"
    }
   },
   "outputs": [],
   "source": [
    "np.random.seed(23)\n",
    "\n",
    "x = np.random.randn(500)*20\n",
    "y = np.random.randn(500)*20\n",
    "z = np.random.randn(500)*20\n",
    "\n",
    "temp = 2.4/x+0.04*y**2+5/z\n",
    "pressure = 1.11*x**2+3.1*y+0.6*z**2"
   ]
  },
  {
   "cell_type": "markdown",
   "metadata": {
    "slideshow": {
     "slide_type": "slide"
    }
   },
   "source": [
    "**Problem 4b**\n",
    "\n",
    "Execute the cell below to create a .vtu file that can be read by ParaView.\n",
    "\n",
    "Open the file in ParaView. Represent the pressure data as *Point Gaussian*, and change the color to match that of the data.\n",
    "\n",
    "From the ParaView render, how would you describe the pressure of the system? What about the temperature?"
   ]
  },
  {
   "cell_type": "code",
   "execution_count": 6,
   "metadata": {
    "slideshow": {
     "slide_type": "slide"
    }
   },
   "outputs": [
    {
     "data": {
      "text/plain": [
       "'/Users/alcorn/Github/LSSTC-DSFP-Sessions/Session6/Day2/points.vtu'"
      ]
     },
     "execution_count": 6,
     "metadata": {},
     "output_type": "execute_result"
    }
   ],
   "source": [
    "pointsToVTK(\"./points\", x, y, z, data = {\"temp\" : temp, \"pressure\" : pressure})"
   ]
  },
  {
   "cell_type": "markdown",
   "metadata": {
    "slideshow": {
     "slide_type": "slide"
    }
   },
   "source": [
    "I can already think of a few ways in which this representation would be useful (especially now that there is Gaia data available), but the real power of ParaView comes via the volume renderings (which require \"cell\" data as opposed to \"point\" data). \n",
    "\n",
    "We will start with random data on a structured grid. Recall that this means we need to specify the mesh dimensions and cell widths before evaluating data on the grid. [A more interesting example follows]"
   ]
  },
  {
   "cell_type": "code",
   "execution_count": 17,
   "metadata": {
    "collapsed": true,
    "slideshow": {
     "slide_type": "slide"
    }
   },
   "outputs": [],
   "source": [
    "nx, ny, nz = 6, 6, 2           # number of cells\n",
    "lx, ly, lz = 1.0, 1.0, 1.0     # length on each size\n",
    "dx, dy, dz = lx/nx, ly/ny, lz/nz       # size of the cells\n",
    "ncells = nx * ny * nz          # total number of cells\n",
    "npoints = (nx + 1) * (ny + 1) * (nz + 1)     # points defined by boundaries, hence n + 1"
   ]
  },
  {
   "cell_type": "markdown",
   "metadata": {
    "slideshow": {
     "slide_type": "slide"
    }
   },
   "source": [
    "From here we can establish the coordinates of the cell and the point data."
   ]
  },
  {
   "cell_type": "code",
   "execution_count": 18,
   "metadata": {
    "slideshow": {
     "slide_type": "slide"
    }
   },
   "outputs": [
    {
     "name": "stdout",
     "output_type": "stream",
     "text": [
      "[ 0.          0.16666667  0.33333333  0.5         0.66666667  0.83333333\n",
      "  1.        ] 7\n",
      "[ 0.          0.16666667  0.33333333  0.5         0.66666667  0.83333333\n",
      "  1.        ] 7\n",
      "[ 0.   0.5  1. ] 3\n"
     ]
    }
   ],
   "source": [
    "x = np.arange(0, lx + 0.1*dx, dx, dtype='float64') \n",
    "y = np.arange(0, ly + 0.1*dy, dy, dtype='float64') \n",
    "z = np.arange(0, lz + 0.1*dz, dz, dtype='float64') \n",
    "print(x, len(x))\n",
    "print(y, len(y))\n",
    "print(z, len(z))"
   ]
  },
  {
   "cell_type": "markdown",
   "metadata": {
    "slideshow": {
     "slide_type": "slide"
    }
   },
   "source": [
    "**Problem 4c**\n",
    "\n",
    "Assign random values for the pressure and tempurature and export the data to a file called structure.vtr.\n",
    "\n",
    "Open structure.vtr in ParaView. Represent the data as a surface with edges, and color the pressure data.\n",
    "\n",
    "*Note* - pay attention to the shape of the pressure and temperature data."
   ]
  },
  {
   "cell_type": "code",
   "execution_count": 13,
   "metadata": {
    "slideshow": {
     "slide_type": "slide"
    }
   },
   "outputs": [
    {
     "name": "stdout",
     "output_type": "stream",
     "text": [
      "[[[ -1.09757223e+01  -1.69747692e-02]\n",
      "  [ -2.09369025e+00  -2.82696695e+01]\n",
      "  [ -1.72164721e+01   4.75735547e+00]\n",
      "  [ -7.58447363e+00  -5.92046257e+01]\n",
      "  [ -1.56482257e+01  -3.36199207e+01]\n",
      "  [  2.30500848e+01  -1.45238564e+01]]\n",
      "\n",
      " [[  2.80791252e+01   4.14567780e+00]\n",
      "  [  8.62424798e+00  -6.93313061e+00]\n",
      "  [  6.09286158e-02   3.25690313e+01]\n",
      "  [ -2.15486887e+01   1.02180047e+01]\n",
      "  [ -2.29775915e+00   1.10244455e+01]\n",
      "  [ -2.57970060e+01  -5.26476531e+00]]\n",
      "\n",
      " [[  6.93362588e+00   3.25085157e+01]\n",
      "  [ -3.93082571e+01   1.21730120e+01]\n",
      "  [ -9.74618995e+00  -1.15133725e+01]\n",
      "  [  2.95157528e+00  -1.57303661e+01]\n",
      "  [  1.09100159e+01  -3.83513041e-01]\n",
      "  [  4.61568544e+01  -1.91208552e+01]]\n",
      "\n",
      " [[  3.07608535e+01   1.26071947e+01]\n",
      "  [ -5.88072753e+01   8.32021092e+00]\n",
      "  [ -3.62220644e+01  -5.06681826e+00]\n",
      "  [  1.55321744e+01   1.17393616e+00]\n",
      "  [ -3.98116562e+00  -1.84371850e+01]\n",
      "  [  2.04136023e+01  -4.85719560e+01]]\n",
      "\n",
      " [[ -7.53227239e-01   2.83588656e+01]\n",
      "  [  8.71292917e+00  -1.08516843e+01]\n",
      "  [ -1.27206645e+01   1.55987869e+01]\n",
      "  [  2.26126372e+01  -6.12341938e+00]\n",
      "  [  2.91663858e+01  -1.57246719e+01]\n",
      "  [ -3.57076528e+00  -5.64876991e+00]]\n",
      "\n",
      " [[  3.53186154e+01   2.34026023e+01]\n",
      "  [  4.36349519e+00   6.76019265e+00]\n",
      "  [ -1.78087128e+01  -3.76126127e+01]\n",
      "  [  1.33774749e+01   4.44845174e+01]\n",
      "  [ -7.54339777e+00  -1.94704439e+01]\n",
      "  [  3.05217541e+01   2.29538787e+01]]]\n",
      "[[[ 17.47951479 -15.70073231  26.78041546]\n",
      "  [ 21.73247137  23.54410559  10.06644399]\n",
      "  [-11.65678037  22.74100481 -10.79941035]\n",
      "  [  2.05997942  -3.31239987  -7.04917631]\n",
      "  [ -6.12276825  41.88010798  -3.12050731]\n",
      "  [ 10.06148362  -4.74611533   9.51330752]\n",
      "  [ 31.58246772  18.66120684   6.04984186]]\n",
      "\n",
      " [[ -2.94202522  -3.00575957  -9.01322534]\n",
      "  [ -3.660215   -46.34017275 -28.49954399]\n",
      "  [ 15.48587973 -16.65038646 -17.26620604]\n",
      "  [ -4.21538391  -1.17524969 -48.82542063]\n",
      "  [-19.88402026  -9.41593764 -22.32978306]\n",
      "  [ -2.56918856  -4.85448363 -25.57036877]\n",
      "  [  4.02204289   3.2907877  -35.15790699]]\n",
      "\n",
      " [[ -7.28883178   5.5386671   42.66752373]\n",
      "  [ -7.98585809 -29.05234014  20.32426928]\n",
      "  [ -4.47183966   9.96887567  -8.59994095]\n",
      "  [  6.77431146  11.67722045  14.11234881]\n",
      "  [-28.62251353  -1.96972257  21.85672594]\n",
      "  [ 15.6085689   20.85593753  30.13657536]\n",
      "  [ 30.39203454   3.00650358 -14.81181919]]\n",
      "\n",
      " [[  4.2806119  -27.4254712   33.95127618]\n",
      "  [-32.29287221  -4.57090642  -5.28914574]\n",
      "  [  7.18343308 -24.23897099   6.20755562]\n",
      "  [-49.22734806 -17.33343479  16.66444466]\n",
      "  [ -0.85458726 -33.48012123   2.53121674]\n",
      "  [-31.16696319 -18.35258191   0.56122374]\n",
      "  [-18.30591662 -22.84553115  -8.70003354]]\n",
      "\n",
      " [[-13.06171195  -4.73672932  -1.76617707]\n",
      "  [ 22.96816956 -23.41923588  19.34008275]\n",
      "  [-20.12742334 -14.85630146  11.63525859]\n",
      "  [-20.38597764  10.04807562  16.88327166]\n",
      "  [-20.16056364 -11.75791949 -10.6287423 ]\n",
      "  [  1.29572454 -25.93475458 -35.51445091]\n",
      "  [ 10.99186713 -15.04459717  10.94653768]]\n",
      "\n",
      " [[  5.32618895   2.28704646  -1.4927033 ]\n",
      "  [-10.98499408  50.00028494   3.2726506 ]\n",
      "  [ -5.11417897  17.03227419   7.56294467]\n",
      "  [ 19.4280899   17.38479853   3.63996162]\n",
      "  [ 38.7974338   -7.69129869  -3.74553417]\n",
      "  [-31.4652986  -26.70851122  25.10779791]\n",
      "  [ -9.04984659  31.32064216   6.02279556]]\n",
      "\n",
      " [[-38.79898688  26.39199219 -14.84582955]\n",
      "  [ -5.93128566 -35.50361071 -20.08717232]\n",
      "  [-30.20130355   2.80681368  14.28041281]\n",
      "  [  8.4289415   19.00679168  17.52001148]\n",
      "  [ 27.86370361  18.90200006  19.50955221]\n",
      "  [ -5.53050665  -0.30740953 -33.38873942]\n",
      "  [-10.41800625 -16.17097996  23.79253196]]]\n"
     ]
    },
    {
     "data": {
      "text/plain": [
       "'/Users/alcorn/Github/LSSTC-DSFP-Sessions/Session6/Day2/structured.vtr'"
      ]
     },
     "execution_count": 13,
     "metadata": {},
     "output_type": "execute_result"
    }
   ],
   "source": [
    "pressure = np.random.randn(6,6,2)*20\n",
    "\n",
    "temp = np.random.randn(7,7,3)*20\n",
    "\n",
    "gridToVTK(\"./structured\", x, y, z, cellData = {\"pressure\" : pressure}, pointData = {\"temp\" : temp})"
   ]
  },
  {
   "cell_type": "markdown",
   "metadata": {
    "slideshow": {
     "slide_type": "slide"
    }
   },
   "source": [
    "Now we will create a slightly more complicated volume rendition of the pressure and temperature.\n",
    "\n",
    "**Problem 4d**\n",
    "\n",
    "Create a grid with 25 cells on a side and equal size cells of length = 0.4. Create cell data for the pressure and point data for the temparture according to the functions given below.\n",
    "\n",
    "$$\\rho = \\left(\\cos(x) + \\cos(y) + \\cos(z)\\right)e^{-(x + y + z)^2/5}$$\n",
    "$$T = x + y + z$$\n",
    "\n",
    "*Hint* - avoid writing any loops for this problem."
   ]
  },
  {
   "cell_type": "code",
   "execution_count": 43,
   "metadata": {
    "slideshow": {
     "slide_type": "slide"
    }
   },
   "outputs": [
    {
     "name": "stdout",
     "output_type": "stream",
     "text": [
      "(26, 26, 26)\n",
      "(25, 25, 25)\n"
     ]
    }
   ],
   "source": [
    "nx, ny, nz = 25, 25, 25           # number of cells\n",
    "lx, ly, lz = 10, 10, 10     # length on each size\n",
    "dx, dy, dz = lx/nx, ly/ny, lz/nz       # size of the cells\n",
    "\n",
    "x = np.arange(0, lx + 0.4*dx, dx, dtype='float64') \n",
    "y = np.arange(0, ly + 0.4*dy, dy, dtype='float64') \n",
    "z = np.arange(0, lz + 0.4*dz, dz, dtype='float64') \n",
    "xc = np.arange(0.2, lx - (0.4*dx)/2, dx, dtype='float64') \n",
    "yc = np.arange(0.2, ly - (0.4*dy)/2, dy, dtype='float64') \n",
    "zc = np.arange(0.2, lz - (0.4*dz)/2, dz, dtype='float64')\n",
    "\n",
    "xt, yt, zt=np.meshgrid(x,y,z)\n",
    "xcen, ycen, zcen=np.meshgrid(xc,yc,zc)\n",
    "temperature=xt+yt+zt\n",
    "print(np.shape(temperature))\n",
    "pressure = (np.cos(xcen)+np.cos(ycen)+np.cos(zcen))*np.exp(-(xcen+ycen+zcen**2)/5)\n",
    "print(np.shape(pressure))"
   ]
  },
  {
   "cell_type": "markdown",
   "metadata": {
    "slideshow": {
     "slide_type": "slide"
    }
   },
   "source": [
    "**Problem 4e**\n",
    "\n",
    "Create a vtk file with the pressure and temperature data. Open the resuling file in ParaView.\n",
    "\n",
    "Examine the volume rendering of the data. Does the visualization make sense given the input data?\n",
    "\n",
    "*Hint* - the x, y, and z coordinates should all be specified as 3d arrays."
   ]
  },
  {
   "cell_type": "code",
   "execution_count": 45,
   "metadata": {
    "slideshow": {
     "slide_type": "slide"
    }
   },
   "outputs": [
    {
     "data": {
      "text/plain": [
       "'/Users/alcorn/Github/LSSTC-DSFP-Sessions/Session6/Day2/structured.vts'"
      ]
     },
     "execution_count": 45,
     "metadata": {},
     "output_type": "execute_result"
    }
   ],
   "source": [
    "gridToVTK(\"./structured\", xt, yt, zt, cellData = {\"pressure\" : pressure}, pointData = {\"temp\" : temperature})"
   ]
  },
  {
   "cell_type": "markdown",
   "metadata": {
    "slideshow": {
     "slide_type": "slide"
    }
   },
   "source": [
    "For simplicity, we have focused on the most ordered methods of producing vtk files. As we have demonstrated, `pyevtk` provides a simple interface to convert `NumPy` arrays into vtk binary files. "
   ]
  },
  {
   "cell_type": "markdown",
   "metadata": {
    "slideshow": {
     "slide_type": "slide"
    }
   },
   "source": [
    "## Problem 5) Example Data Analysis - K means"
   ]
  },
  {
   "cell_type": "markdown",
   "metadata": {
    "slideshow": {
     "slide_type": "slide"
    }
   },
   "source": [
    "In addition to 3D rendering, ParaView provies utilities for performing (light) statistical analysis on data sets.\n",
    "\n",
    "As a demonstration of this we will revisit one of our commonly used data sets (the famous Iris machine learning data).\n",
    "\n",
    "Load the iris data into a `pandas` `DataFrame` via seaborn."
   ]
  },
  {
   "cell_type": "code",
   "execution_count": 64,
   "metadata": {
    "collapsed": true,
    "slideshow": {
     "slide_type": "slide"
    }
   },
   "outputs": [],
   "source": [
    "import seaborn as sns\n",
    "iris = sns.load_dataset(\"iris\")"
   ]
  },
  {
   "cell_type": "markdown",
   "metadata": {
    "slideshow": {
     "slide_type": "slide"
    }
   },
   "source": [
    "**Problem 5a**\n",
    "\n",
    "As a point of comparison, quickly visualize this data in 2D.  \n",
    "\n",
    "*Hint* - [`seaborn`](https://seaborn.pydata.org/index.html) makes this easy and possible with a single line of code."
   ]
  },
  {
   "cell_type": "code",
   "execution_count": 49,
   "metadata": {
    "scrolled": true,
    "slideshow": {
     "slide_type": "slide"
    }
   },
   "outputs": [
    {
     "data": {
      "application/javascript": [
       "/* Put everything inside the global mpl namespace */\n",
       "window.mpl = {};\n",
       "\n",
       "\n",
       "mpl.get_websocket_type = function() {\n",
       "    if (typeof(WebSocket) !== 'undefined') {\n",
       "        return WebSocket;\n",
       "    } else if (typeof(MozWebSocket) !== 'undefined') {\n",
       "        return MozWebSocket;\n",
       "    } else {\n",
       "        alert('Your browser does not have WebSocket support.' +\n",
       "              'Please try Chrome, Safari or Firefox ≥ 6. ' +\n",
       "              'Firefox 4 and 5 are also supported but you ' +\n",
       "              'have to enable WebSockets in about:config.');\n",
       "    };\n",
       "}\n",
       "\n",
       "mpl.figure = function(figure_id, websocket, ondownload, parent_element) {\n",
       "    this.id = figure_id;\n",
       "\n",
       "    this.ws = websocket;\n",
       "\n",
       "    this.supports_binary = (this.ws.binaryType != undefined);\n",
       "\n",
       "    if (!this.supports_binary) {\n",
       "        var warnings = document.getElementById(\"mpl-warnings\");\n",
       "        if (warnings) {\n",
       "            warnings.style.display = 'block';\n",
       "            warnings.textContent = (\n",
       "                \"This browser does not support binary websocket messages. \" +\n",
       "                    \"Performance may be slow.\");\n",
       "        }\n",
       "    }\n",
       "\n",
       "    this.imageObj = new Image();\n",
       "\n",
       "    this.context = undefined;\n",
       "    this.message = undefined;\n",
       "    this.canvas = undefined;\n",
       "    this.rubberband_canvas = undefined;\n",
       "    this.rubberband_context = undefined;\n",
       "    this.format_dropdown = undefined;\n",
       "\n",
       "    this.image_mode = 'full';\n",
       "\n",
       "    this.root = $('<div/>');\n",
       "    this._root_extra_style(this.root)\n",
       "    this.root.attr('style', 'display: inline-block');\n",
       "\n",
       "    $(parent_element).append(this.root);\n",
       "\n",
       "    this._init_header(this);\n",
       "    this._init_canvas(this);\n",
       "    this._init_toolbar(this);\n",
       "\n",
       "    var fig = this;\n",
       "\n",
       "    this.waiting = false;\n",
       "\n",
       "    this.ws.onopen =  function () {\n",
       "            fig.send_message(\"supports_binary\", {value: fig.supports_binary});\n",
       "            fig.send_message(\"send_image_mode\", {});\n",
       "            if (mpl.ratio != 1) {\n",
       "                fig.send_message(\"set_dpi_ratio\", {'dpi_ratio': mpl.ratio});\n",
       "            }\n",
       "            fig.send_message(\"refresh\", {});\n",
       "        }\n",
       "\n",
       "    this.imageObj.onload = function() {\n",
       "            if (fig.image_mode == 'full') {\n",
       "                // Full images could contain transparency (where diff images\n",
       "                // almost always do), so we need to clear the canvas so that\n",
       "                // there is no ghosting.\n",
       "                fig.context.clearRect(0, 0, fig.canvas.width, fig.canvas.height);\n",
       "            }\n",
       "            fig.context.drawImage(fig.imageObj, 0, 0);\n",
       "        };\n",
       "\n",
       "    this.imageObj.onunload = function() {\n",
       "        this.ws.close();\n",
       "    }\n",
       "\n",
       "    this.ws.onmessage = this._make_on_message_function(this);\n",
       "\n",
       "    this.ondownload = ondownload;\n",
       "}\n",
       "\n",
       "mpl.figure.prototype._init_header = function() {\n",
       "    var titlebar = $(\n",
       "        '<div class=\"ui-dialog-titlebar ui-widget-header ui-corner-all ' +\n",
       "        'ui-helper-clearfix\"/>');\n",
       "    var titletext = $(\n",
       "        '<div class=\"ui-dialog-title\" style=\"width: 100%; ' +\n",
       "        'text-align: center; padding: 3px;\"/>');\n",
       "    titlebar.append(titletext)\n",
       "    this.root.append(titlebar);\n",
       "    this.header = titletext[0];\n",
       "}\n",
       "\n",
       "\n",
       "\n",
       "mpl.figure.prototype._canvas_extra_style = function(canvas_div) {\n",
       "\n",
       "}\n",
       "\n",
       "\n",
       "mpl.figure.prototype._root_extra_style = function(canvas_div) {\n",
       "\n",
       "}\n",
       "\n",
       "mpl.figure.prototype._init_canvas = function() {\n",
       "    var fig = this;\n",
       "\n",
       "    var canvas_div = $('<div/>');\n",
       "\n",
       "    canvas_div.attr('style', 'position: relative; clear: both; outline: 0');\n",
       "\n",
       "    function canvas_keyboard_event(event) {\n",
       "        return fig.key_event(event, event['data']);\n",
       "    }\n",
       "\n",
       "    canvas_div.keydown('key_press', canvas_keyboard_event);\n",
       "    canvas_div.keyup('key_release', canvas_keyboard_event);\n",
       "    this.canvas_div = canvas_div\n",
       "    this._canvas_extra_style(canvas_div)\n",
       "    this.root.append(canvas_div);\n",
       "\n",
       "    var canvas = $('<canvas/>');\n",
       "    canvas.addClass('mpl-canvas');\n",
       "    canvas.attr('style', \"left: 0; top: 0; z-index: 0; outline: 0\")\n",
       "\n",
       "    this.canvas = canvas[0];\n",
       "    this.context = canvas[0].getContext(\"2d\");\n",
       "\n",
       "    var backingStore = this.context.backingStorePixelRatio ||\n",
       "\tthis.context.webkitBackingStorePixelRatio ||\n",
       "\tthis.context.mozBackingStorePixelRatio ||\n",
       "\tthis.context.msBackingStorePixelRatio ||\n",
       "\tthis.context.oBackingStorePixelRatio ||\n",
       "\tthis.context.backingStorePixelRatio || 1;\n",
       "\n",
       "    mpl.ratio = (window.devicePixelRatio || 1) / backingStore;\n",
       "\n",
       "    var rubberband = $('<canvas/>');\n",
       "    rubberband.attr('style', \"position: absolute; left: 0; top: 0; z-index: 1;\")\n",
       "\n",
       "    var pass_mouse_events = true;\n",
       "\n",
       "    canvas_div.resizable({\n",
       "        start: function(event, ui) {\n",
       "            pass_mouse_events = false;\n",
       "        },\n",
       "        resize: function(event, ui) {\n",
       "            fig.request_resize(ui.size.width, ui.size.height);\n",
       "        },\n",
       "        stop: function(event, ui) {\n",
       "            pass_mouse_events = true;\n",
       "            fig.request_resize(ui.size.width, ui.size.height);\n",
       "        },\n",
       "    });\n",
       "\n",
       "    function mouse_event_fn(event) {\n",
       "        if (pass_mouse_events)\n",
       "            return fig.mouse_event(event, event['data']);\n",
       "    }\n",
       "\n",
       "    rubberband.mousedown('button_press', mouse_event_fn);\n",
       "    rubberband.mouseup('button_release', mouse_event_fn);\n",
       "    // Throttle sequential mouse events to 1 every 20ms.\n",
       "    rubberband.mousemove('motion_notify', mouse_event_fn);\n",
       "\n",
       "    rubberband.mouseenter('figure_enter', mouse_event_fn);\n",
       "    rubberband.mouseleave('figure_leave', mouse_event_fn);\n",
       "\n",
       "    canvas_div.on(\"wheel\", function (event) {\n",
       "        event = event.originalEvent;\n",
       "        event['data'] = 'scroll'\n",
       "        if (event.deltaY < 0) {\n",
       "            event.step = 1;\n",
       "        } else {\n",
       "            event.step = -1;\n",
       "        }\n",
       "        mouse_event_fn(event);\n",
       "    });\n",
       "\n",
       "    canvas_div.append(canvas);\n",
       "    canvas_div.append(rubberband);\n",
       "\n",
       "    this.rubberband = rubberband;\n",
       "    this.rubberband_canvas = rubberband[0];\n",
       "    this.rubberband_context = rubberband[0].getContext(\"2d\");\n",
       "    this.rubberband_context.strokeStyle = \"#000000\";\n",
       "\n",
       "    this._resize_canvas = function(width, height) {\n",
       "        // Keep the size of the canvas, canvas container, and rubber band\n",
       "        // canvas in synch.\n",
       "        canvas_div.css('width', width)\n",
       "        canvas_div.css('height', height)\n",
       "\n",
       "        canvas.attr('width', width * mpl.ratio);\n",
       "        canvas.attr('height', height * mpl.ratio);\n",
       "        canvas.attr('style', 'width: ' + width + 'px; height: ' + height + 'px;');\n",
       "\n",
       "        rubberband.attr('width', width);\n",
       "        rubberband.attr('height', height);\n",
       "    }\n",
       "\n",
       "    // Set the figure to an initial 600x600px, this will subsequently be updated\n",
       "    // upon first draw.\n",
       "    this._resize_canvas(600, 600);\n",
       "\n",
       "    // Disable right mouse context menu.\n",
       "    $(this.rubberband_canvas).bind(\"contextmenu\",function(e){\n",
       "        return false;\n",
       "    });\n",
       "\n",
       "    function set_focus () {\n",
       "        canvas.focus();\n",
       "        canvas_div.focus();\n",
       "    }\n",
       "\n",
       "    window.setTimeout(set_focus, 100);\n",
       "}\n",
       "\n",
       "mpl.figure.prototype._init_toolbar = function() {\n",
       "    var fig = this;\n",
       "\n",
       "    var nav_element = $('<div/>')\n",
       "    nav_element.attr('style', 'width: 100%');\n",
       "    this.root.append(nav_element);\n",
       "\n",
       "    // Define a callback function for later on.\n",
       "    function toolbar_event(event) {\n",
       "        return fig.toolbar_button_onclick(event['data']);\n",
       "    }\n",
       "    function toolbar_mouse_event(event) {\n",
       "        return fig.toolbar_button_onmouseover(event['data']);\n",
       "    }\n",
       "\n",
       "    for(var toolbar_ind in mpl.toolbar_items) {\n",
       "        var name = mpl.toolbar_items[toolbar_ind][0];\n",
       "        var tooltip = mpl.toolbar_items[toolbar_ind][1];\n",
       "        var image = mpl.toolbar_items[toolbar_ind][2];\n",
       "        var method_name = mpl.toolbar_items[toolbar_ind][3];\n",
       "\n",
       "        if (!name) {\n",
       "            // put a spacer in here.\n",
       "            continue;\n",
       "        }\n",
       "        var button = $('<button/>');\n",
       "        button.addClass('ui-button ui-widget ui-state-default ui-corner-all ' +\n",
       "                        'ui-button-icon-only');\n",
       "        button.attr('role', 'button');\n",
       "        button.attr('aria-disabled', 'false');\n",
       "        button.click(method_name, toolbar_event);\n",
       "        button.mouseover(tooltip, toolbar_mouse_event);\n",
       "\n",
       "        var icon_img = $('<span/>');\n",
       "        icon_img.addClass('ui-button-icon-primary ui-icon');\n",
       "        icon_img.addClass(image);\n",
       "        icon_img.addClass('ui-corner-all');\n",
       "\n",
       "        var tooltip_span = $('<span/>');\n",
       "        tooltip_span.addClass('ui-button-text');\n",
       "        tooltip_span.html(tooltip);\n",
       "\n",
       "        button.append(icon_img);\n",
       "        button.append(tooltip_span);\n",
       "\n",
       "        nav_element.append(button);\n",
       "    }\n",
       "\n",
       "    var fmt_picker_span = $('<span/>');\n",
       "\n",
       "    var fmt_picker = $('<select/>');\n",
       "    fmt_picker.addClass('mpl-toolbar-option ui-widget ui-widget-content');\n",
       "    fmt_picker_span.append(fmt_picker);\n",
       "    nav_element.append(fmt_picker_span);\n",
       "    this.format_dropdown = fmt_picker[0];\n",
       "\n",
       "    for (var ind in mpl.extensions) {\n",
       "        var fmt = mpl.extensions[ind];\n",
       "        var option = $(\n",
       "            '<option/>', {selected: fmt === mpl.default_extension}).html(fmt);\n",
       "        fmt_picker.append(option)\n",
       "    }\n",
       "\n",
       "    // Add hover states to the ui-buttons\n",
       "    $( \".ui-button\" ).hover(\n",
       "        function() { $(this).addClass(\"ui-state-hover\");},\n",
       "        function() { $(this).removeClass(\"ui-state-hover\");}\n",
       "    );\n",
       "\n",
       "    var status_bar = $('<span class=\"mpl-message\"/>');\n",
       "    nav_element.append(status_bar);\n",
       "    this.message = status_bar[0];\n",
       "}\n",
       "\n",
       "mpl.figure.prototype.request_resize = function(x_pixels, y_pixels) {\n",
       "    // Request matplotlib to resize the figure. Matplotlib will then trigger a resize in the client,\n",
       "    // which will in turn request a refresh of the image.\n",
       "    this.send_message('resize', {'width': x_pixels, 'height': y_pixels});\n",
       "}\n",
       "\n",
       "mpl.figure.prototype.send_message = function(type, properties) {\n",
       "    properties['type'] = type;\n",
       "    properties['figure_id'] = this.id;\n",
       "    this.ws.send(JSON.stringify(properties));\n",
       "}\n",
       "\n",
       "mpl.figure.prototype.send_draw_message = function() {\n",
       "    if (!this.waiting) {\n",
       "        this.waiting = true;\n",
       "        this.ws.send(JSON.stringify({type: \"draw\", figure_id: this.id}));\n",
       "    }\n",
       "}\n",
       "\n",
       "\n",
       "mpl.figure.prototype.handle_save = function(fig, msg) {\n",
       "    var format_dropdown = fig.format_dropdown;\n",
       "    var format = format_dropdown.options[format_dropdown.selectedIndex].value;\n",
       "    fig.ondownload(fig, format);\n",
       "}\n",
       "\n",
       "\n",
       "mpl.figure.prototype.handle_resize = function(fig, msg) {\n",
       "    var size = msg['size'];\n",
       "    if (size[0] != fig.canvas.width || size[1] != fig.canvas.height) {\n",
       "        fig._resize_canvas(size[0], size[1]);\n",
       "        fig.send_message(\"refresh\", {});\n",
       "    };\n",
       "}\n",
       "\n",
       "mpl.figure.prototype.handle_rubberband = function(fig, msg) {\n",
       "    var x0 = msg['x0'] / mpl.ratio;\n",
       "    var y0 = (fig.canvas.height - msg['y0']) / mpl.ratio;\n",
       "    var x1 = msg['x1'] / mpl.ratio;\n",
       "    var y1 = (fig.canvas.height - msg['y1']) / mpl.ratio;\n",
       "    x0 = Math.floor(x0) + 0.5;\n",
       "    y0 = Math.floor(y0) + 0.5;\n",
       "    x1 = Math.floor(x1) + 0.5;\n",
       "    y1 = Math.floor(y1) + 0.5;\n",
       "    var min_x = Math.min(x0, x1);\n",
       "    var min_y = Math.min(y0, y1);\n",
       "    var width = Math.abs(x1 - x0);\n",
       "    var height = Math.abs(y1 - y0);\n",
       "\n",
       "    fig.rubberband_context.clearRect(\n",
       "        0, 0, fig.canvas.width, fig.canvas.height);\n",
       "\n",
       "    fig.rubberband_context.strokeRect(min_x, min_y, width, height);\n",
       "}\n",
       "\n",
       "mpl.figure.prototype.handle_figure_label = function(fig, msg) {\n",
       "    // Updates the figure title.\n",
       "    fig.header.textContent = msg['label'];\n",
       "}\n",
       "\n",
       "mpl.figure.prototype.handle_cursor = function(fig, msg) {\n",
       "    var cursor = msg['cursor'];\n",
       "    switch(cursor)\n",
       "    {\n",
       "    case 0:\n",
       "        cursor = 'pointer';\n",
       "        break;\n",
       "    case 1:\n",
       "        cursor = 'default';\n",
       "        break;\n",
       "    case 2:\n",
       "        cursor = 'crosshair';\n",
       "        break;\n",
       "    case 3:\n",
       "        cursor = 'move';\n",
       "        break;\n",
       "    }\n",
       "    fig.rubberband_canvas.style.cursor = cursor;\n",
       "}\n",
       "\n",
       "mpl.figure.prototype.handle_message = function(fig, msg) {\n",
       "    fig.message.textContent = msg['message'];\n",
       "}\n",
       "\n",
       "mpl.figure.prototype.handle_draw = function(fig, msg) {\n",
       "    // Request the server to send over a new figure.\n",
       "    fig.send_draw_message();\n",
       "}\n",
       "\n",
       "mpl.figure.prototype.handle_image_mode = function(fig, msg) {\n",
       "    fig.image_mode = msg['mode'];\n",
       "}\n",
       "\n",
       "mpl.figure.prototype.updated_canvas_event = function() {\n",
       "    // Called whenever the canvas gets updated.\n",
       "    this.send_message(\"ack\", {});\n",
       "}\n",
       "\n",
       "// A function to construct a web socket function for onmessage handling.\n",
       "// Called in the figure constructor.\n",
       "mpl.figure.prototype._make_on_message_function = function(fig) {\n",
       "    return function socket_on_message(evt) {\n",
       "        if (evt.data instanceof Blob) {\n",
       "            /* FIXME: We get \"Resource interpreted as Image but\n",
       "             * transferred with MIME type text/plain:\" errors on\n",
       "             * Chrome.  But how to set the MIME type?  It doesn't seem\n",
       "             * to be part of the websocket stream */\n",
       "            evt.data.type = \"image/png\";\n",
       "\n",
       "            /* Free the memory for the previous frames */\n",
       "            if (fig.imageObj.src) {\n",
       "                (window.URL || window.webkitURL).revokeObjectURL(\n",
       "                    fig.imageObj.src);\n",
       "            }\n",
       "\n",
       "            fig.imageObj.src = (window.URL || window.webkitURL).createObjectURL(\n",
       "                evt.data);\n",
       "            fig.updated_canvas_event();\n",
       "            fig.waiting = false;\n",
       "            return;\n",
       "        }\n",
       "        else if (typeof evt.data === 'string' && evt.data.slice(0, 21) == \"data:image/png;base64\") {\n",
       "            fig.imageObj.src = evt.data;\n",
       "            fig.updated_canvas_event();\n",
       "            fig.waiting = false;\n",
       "            return;\n",
       "        }\n",
       "\n",
       "        var msg = JSON.parse(evt.data);\n",
       "        var msg_type = msg['type'];\n",
       "\n",
       "        // Call the  \"handle_{type}\" callback, which takes\n",
       "        // the figure and JSON message as its only arguments.\n",
       "        try {\n",
       "            var callback = fig[\"handle_\" + msg_type];\n",
       "        } catch (e) {\n",
       "            console.log(\"No handler for the '\" + msg_type + \"' message type: \", msg);\n",
       "            return;\n",
       "        }\n",
       "\n",
       "        if (callback) {\n",
       "            try {\n",
       "                // console.log(\"Handling '\" + msg_type + \"' message: \", msg);\n",
       "                callback(fig, msg);\n",
       "            } catch (e) {\n",
       "                console.log(\"Exception inside the 'handler_\" + msg_type + \"' callback:\", e, e.stack, msg);\n",
       "            }\n",
       "        }\n",
       "    };\n",
       "}\n",
       "\n",
       "// from http://stackoverflow.com/questions/1114465/getting-mouse-location-in-canvas\n",
       "mpl.findpos = function(e) {\n",
       "    //this section is from http://www.quirksmode.org/js/events_properties.html\n",
       "    var targ;\n",
       "    if (!e)\n",
       "        e = window.event;\n",
       "    if (e.target)\n",
       "        targ = e.target;\n",
       "    else if (e.srcElement)\n",
       "        targ = e.srcElement;\n",
       "    if (targ.nodeType == 3) // defeat Safari bug\n",
       "        targ = targ.parentNode;\n",
       "\n",
       "    // jQuery normalizes the pageX and pageY\n",
       "    // pageX,Y are the mouse positions relative to the document\n",
       "    // offset() returns the position of the element relative to the document\n",
       "    var x = e.pageX - $(targ).offset().left;\n",
       "    var y = e.pageY - $(targ).offset().top;\n",
       "\n",
       "    return {\"x\": x, \"y\": y};\n",
       "};\n",
       "\n",
       "/*\n",
       " * return a copy of an object with only non-object keys\n",
       " * we need this to avoid circular references\n",
       " * http://stackoverflow.com/a/24161582/3208463\n",
       " */\n",
       "function simpleKeys (original) {\n",
       "  return Object.keys(original).reduce(function (obj, key) {\n",
       "    if (typeof original[key] !== 'object')\n",
       "        obj[key] = original[key]\n",
       "    return obj;\n",
       "  }, {});\n",
       "}\n",
       "\n",
       "mpl.figure.prototype.mouse_event = function(event, name) {\n",
       "    var canvas_pos = mpl.findpos(event)\n",
       "\n",
       "    if (name === 'button_press')\n",
       "    {\n",
       "        this.canvas.focus();\n",
       "        this.canvas_div.focus();\n",
       "    }\n",
       "\n",
       "    var x = canvas_pos.x * mpl.ratio;\n",
       "    var y = canvas_pos.y * mpl.ratio;\n",
       "\n",
       "    this.send_message(name, {x: x, y: y, button: event.button,\n",
       "                             step: event.step,\n",
       "                             guiEvent: simpleKeys(event)});\n",
       "\n",
       "    /* This prevents the web browser from automatically changing to\n",
       "     * the text insertion cursor when the button is pressed.  We want\n",
       "     * to control all of the cursor setting manually through the\n",
       "     * 'cursor' event from matplotlib */\n",
       "    event.preventDefault();\n",
       "    return false;\n",
       "}\n",
       "\n",
       "mpl.figure.prototype._key_event_extra = function(event, name) {\n",
       "    // Handle any extra behaviour associated with a key event\n",
       "}\n",
       "\n",
       "mpl.figure.prototype.key_event = function(event, name) {\n",
       "\n",
       "    // Prevent repeat events\n",
       "    if (name == 'key_press')\n",
       "    {\n",
       "        if (event.which === this._key)\n",
       "            return;\n",
       "        else\n",
       "            this._key = event.which;\n",
       "    }\n",
       "    if (name == 'key_release')\n",
       "        this._key = null;\n",
       "\n",
       "    var value = '';\n",
       "    if (event.ctrlKey && event.which != 17)\n",
       "        value += \"ctrl+\";\n",
       "    if (event.altKey && event.which != 18)\n",
       "        value += \"alt+\";\n",
       "    if (event.shiftKey && event.which != 16)\n",
       "        value += \"shift+\";\n",
       "\n",
       "    value += 'k';\n",
       "    value += event.which.toString();\n",
       "\n",
       "    this._key_event_extra(event, name);\n",
       "\n",
       "    this.send_message(name, {key: value,\n",
       "                             guiEvent: simpleKeys(event)});\n",
       "    return false;\n",
       "}\n",
       "\n",
       "mpl.figure.prototype.toolbar_button_onclick = function(name) {\n",
       "    if (name == 'download') {\n",
       "        this.handle_save(this, null);\n",
       "    } else {\n",
       "        this.send_message(\"toolbar_button\", {name: name});\n",
       "    }\n",
       "};\n",
       "\n",
       "mpl.figure.prototype.toolbar_button_onmouseover = function(tooltip) {\n",
       "    this.message.textContent = tooltip;\n",
       "};\n",
       "mpl.toolbar_items = [[\"Home\", \"Reset original view\", \"fa fa-home icon-home\", \"home\"], [\"Back\", \"Back to  previous view\", \"fa fa-arrow-left icon-arrow-left\", \"back\"], [\"Forward\", \"Forward to next view\", \"fa fa-arrow-right icon-arrow-right\", \"forward\"], [\"\", \"\", \"\", \"\"], [\"Pan\", \"Pan axes with left mouse, zoom with right\", \"fa fa-arrows icon-move\", \"pan\"], [\"Zoom\", \"Zoom to rectangle\", \"fa fa-square-o icon-check-empty\", \"zoom\"], [\"\", \"\", \"\", \"\"], [\"Download\", \"Download plot\", \"fa fa-floppy-o icon-save\", \"download\"]];\n",
       "\n",
       "mpl.extensions = [\"eps\", \"jpeg\", \"pdf\", \"png\", \"ps\", \"raw\", \"svg\", \"tif\"];\n",
       "\n",
       "mpl.default_extension = \"png\";var comm_websocket_adapter = function(comm) {\n",
       "    // Create a \"websocket\"-like object which calls the given IPython comm\n",
       "    // object with the appropriate methods. Currently this is a non binary\n",
       "    // socket, so there is still some room for performance tuning.\n",
       "    var ws = {};\n",
       "\n",
       "    ws.close = function() {\n",
       "        comm.close()\n",
       "    };\n",
       "    ws.send = function(m) {\n",
       "        //console.log('sending', m);\n",
       "        comm.send(m);\n",
       "    };\n",
       "    // Register the callback with on_msg.\n",
       "    comm.on_msg(function(msg) {\n",
       "        //console.log('receiving', msg['content']['data'], msg);\n",
       "        // Pass the mpl event to the overriden (by mpl) onmessage function.\n",
       "        ws.onmessage(msg['content']['data'])\n",
       "    });\n",
       "    return ws;\n",
       "}\n",
       "\n",
       "mpl.mpl_figure_comm = function(comm, msg) {\n",
       "    // This is the function which gets called when the mpl process\n",
       "    // starts-up an IPython Comm through the \"matplotlib\" channel.\n",
       "\n",
       "    var id = msg.content.data.id;\n",
       "    // Get hold of the div created by the display call when the Comm\n",
       "    // socket was opened in Python.\n",
       "    var element = $(\"#\" + id);\n",
       "    var ws_proxy = comm_websocket_adapter(comm)\n",
       "\n",
       "    function ondownload(figure, format) {\n",
       "        window.open(figure.imageObj.src);\n",
       "    }\n",
       "\n",
       "    var fig = new mpl.figure(id, ws_proxy,\n",
       "                           ondownload,\n",
       "                           element.get(0));\n",
       "\n",
       "    // Call onopen now - mpl needs it, as it is assuming we've passed it a real\n",
       "    // web socket which is closed, not our websocket->open comm proxy.\n",
       "    ws_proxy.onopen();\n",
       "\n",
       "    fig.parent_element = element.get(0);\n",
       "    fig.cell_info = mpl.find_output_cell(\"<div id='\" + id + \"'></div>\");\n",
       "    if (!fig.cell_info) {\n",
       "        console.error(\"Failed to find cell for figure\", id, fig);\n",
       "        return;\n",
       "    }\n",
       "\n",
       "    var output_index = fig.cell_info[2]\n",
       "    var cell = fig.cell_info[0];\n",
       "\n",
       "};\n",
       "\n",
       "mpl.figure.prototype.handle_close = function(fig, msg) {\n",
       "    var width = fig.canvas.width/mpl.ratio\n",
       "    fig.root.unbind('remove')\n",
       "\n",
       "    // Update the output cell to use the data from the current canvas.\n",
       "    fig.push_to_output();\n",
       "    var dataURL = fig.canvas.toDataURL();\n",
       "    // Re-enable the keyboard manager in IPython - without this line, in FF,\n",
       "    // the notebook keyboard shortcuts fail.\n",
       "    IPython.keyboard_manager.enable()\n",
       "    $(fig.parent_element).html('<img src=\"' + dataURL + '\" width=\"' + width + '\">');\n",
       "    fig.close_ws(fig, msg);\n",
       "}\n",
       "\n",
       "mpl.figure.prototype.close_ws = function(fig, msg){\n",
       "    fig.send_message('closing', msg);\n",
       "    // fig.ws.close()\n",
       "}\n",
       "\n",
       "mpl.figure.prototype.push_to_output = function(remove_interactive) {\n",
       "    // Turn the data on the canvas into data in the output cell.\n",
       "    var width = this.canvas.width/mpl.ratio\n",
       "    var dataURL = this.canvas.toDataURL();\n",
       "    this.cell_info[1]['text/html'] = '<img src=\"' + dataURL + '\" width=\"' + width + '\">';\n",
       "}\n",
       "\n",
       "mpl.figure.prototype.updated_canvas_event = function() {\n",
       "    // Tell IPython that the notebook contents must change.\n",
       "    IPython.notebook.set_dirty(true);\n",
       "    this.send_message(\"ack\", {});\n",
       "    var fig = this;\n",
       "    // Wait a second, then push the new image to the DOM so\n",
       "    // that it is saved nicely (might be nice to debounce this).\n",
       "    setTimeout(function () { fig.push_to_output() }, 1000);\n",
       "}\n",
       "\n",
       "mpl.figure.prototype._init_toolbar = function() {\n",
       "    var fig = this;\n",
       "\n",
       "    var nav_element = $('<div/>')\n",
       "    nav_element.attr('style', 'width: 100%');\n",
       "    this.root.append(nav_element);\n",
       "\n",
       "    // Define a callback function for later on.\n",
       "    function toolbar_event(event) {\n",
       "        return fig.toolbar_button_onclick(event['data']);\n",
       "    }\n",
       "    function toolbar_mouse_event(event) {\n",
       "        return fig.toolbar_button_onmouseover(event['data']);\n",
       "    }\n",
       "\n",
       "    for(var toolbar_ind in mpl.toolbar_items){\n",
       "        var name = mpl.toolbar_items[toolbar_ind][0];\n",
       "        var tooltip = mpl.toolbar_items[toolbar_ind][1];\n",
       "        var image = mpl.toolbar_items[toolbar_ind][2];\n",
       "        var method_name = mpl.toolbar_items[toolbar_ind][3];\n",
       "\n",
       "        if (!name) { continue; };\n",
       "\n",
       "        var button = $('<button class=\"btn btn-default\" href=\"#\" title=\"' + name + '\"><i class=\"fa ' + image + ' fa-lg\"></i></button>');\n",
       "        button.click(method_name, toolbar_event);\n",
       "        button.mouseover(tooltip, toolbar_mouse_event);\n",
       "        nav_element.append(button);\n",
       "    }\n",
       "\n",
       "    // Add the status bar.\n",
       "    var status_bar = $('<span class=\"mpl-message\" style=\"text-align:right; float: right;\"/>');\n",
       "    nav_element.append(status_bar);\n",
       "    this.message = status_bar[0];\n",
       "\n",
       "    // Add the close button to the window.\n",
       "    var buttongrp = $('<div class=\"btn-group inline pull-right\"></div>');\n",
       "    var button = $('<button class=\"btn btn-mini btn-primary\" href=\"#\" title=\"Stop Interaction\"><i class=\"fa fa-power-off icon-remove icon-large\"></i></button>');\n",
       "    button.click(function (evt) { fig.handle_close(fig, {}); } );\n",
       "    button.mouseover('Stop Interaction', toolbar_mouse_event);\n",
       "    buttongrp.append(button);\n",
       "    var titlebar = this.root.find($('.ui-dialog-titlebar'));\n",
       "    titlebar.prepend(buttongrp);\n",
       "}\n",
       "\n",
       "mpl.figure.prototype._root_extra_style = function(el){\n",
       "    var fig = this\n",
       "    el.on(\"remove\", function(){\n",
       "\tfig.close_ws(fig, {});\n",
       "    });\n",
       "}\n",
       "\n",
       "mpl.figure.prototype._canvas_extra_style = function(el){\n",
       "    // this is important to make the div 'focusable\n",
       "    el.attr('tabindex', 0)\n",
       "    // reach out to IPython and tell the keyboard manager to turn it's self\n",
       "    // off when our div gets focus\n",
       "\n",
       "    // location in version 3\n",
       "    if (IPython.notebook.keyboard_manager) {\n",
       "        IPython.notebook.keyboard_manager.register_events(el);\n",
       "    }\n",
       "    else {\n",
       "        // location in version 2\n",
       "        IPython.keyboard_manager.register_events(el);\n",
       "    }\n",
       "\n",
       "}\n",
       "\n",
       "mpl.figure.prototype._key_event_extra = function(event, name) {\n",
       "    var manager = IPython.notebook.keyboard_manager;\n",
       "    if (!manager)\n",
       "        manager = IPython.keyboard_manager;\n",
       "\n",
       "    // Check for shift+enter\n",
       "    if (event.shiftKey && event.which == 13) {\n",
       "        this.canvas_div.blur();\n",
       "        // select the cell after this one\n",
       "        var index = IPython.notebook.find_cell_index(this.cell_info[0]);\n",
       "        IPython.notebook.select(index + 1);\n",
       "    }\n",
       "}\n",
       "\n",
       "mpl.figure.prototype.handle_save = function(fig, msg) {\n",
       "    fig.ondownload(fig, null);\n",
       "}\n",
       "\n",
       "\n",
       "mpl.find_output_cell = function(html_output) {\n",
       "    // Return the cell and output element which can be found *uniquely* in the notebook.\n",
       "    // Note - this is a bit hacky, but it is done because the \"notebook_saving.Notebook\"\n",
       "    // IPython event is triggered only after the cells have been serialised, which for\n",
       "    // our purposes (turning an active figure into a static one), is too late.\n",
       "    var cells = IPython.notebook.get_cells();\n",
       "    var ncells = cells.length;\n",
       "    for (var i=0; i<ncells; i++) {\n",
       "        var cell = cells[i];\n",
       "        if (cell.cell_type === 'code'){\n",
       "            for (var j=0; j<cell.output_area.outputs.length; j++) {\n",
       "                var data = cell.output_area.outputs[j];\n",
       "                if (data.data) {\n",
       "                    // IPython >= 3 moved mimebundle to data attribute of output\n",
       "                    data = data.data;\n",
       "                }\n",
       "                if (data['text/html'] == html_output) {\n",
       "                    return [cell, data, j];\n",
       "                }\n",
       "            }\n",
       "        }\n",
       "    }\n",
       "}\n",
       "\n",
       "// Register the function which deals with the matplotlib target/channel.\n",
       "// The kernel may be null if the page has been refreshed.\n",
       "if (IPython.notebook.kernel != null) {\n",
       "    IPython.notebook.kernel.comm_manager.register_target('matplotlib', mpl.mpl_figure_comm);\n",
       "}\n"
      ],
      "text/plain": [
       "<IPython.core.display.Javascript object>"
      ]
     },
     "metadata": {},
     "output_type": "display_data"
    },
    {
     "data": {
      "text/html": [
       "<img src=\"data:image/png;base64,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\" width=\"1000\">"
      ],
      "text/plain": [
       "<IPython.core.display.HTML object>"
      ]
     },
     "metadata": {},
     "output_type": "display_data"
    },
    {
     "data": {
      "text/plain": [
       "<seaborn.axisgrid.PairGrid at 0x1a1639dfd0>"
      ]
     },
     "execution_count": 49,
     "metadata": {},
     "output_type": "execute_result"
    }
   ],
   "source": [
    "sns.pairplot(iris, hue='species', size=2.5)"
   ]
  },
  {
   "cell_type": "markdown",
   "metadata": {
    "slideshow": {
     "slide_type": "slide"
    }
   },
   "source": [
    "As you can see: the iris data feature 3 classes in a four dimentional data set. We will now prepare this data for visualization in ParaView."
   ]
  },
  {
   "cell_type": "markdown",
   "metadata": {
    "slideshow": {
     "slide_type": "slide"
    }
   },
   "source": [
    "**Problem 5b**\n",
    "\n",
    "Select 3 of the variables to serve as the (x, y, z) spatial coordinates for the data set. Note - the specific selection does not particularly matter, though 2 features are clearly better than the others."
   ]
  },
  {
   "cell_type": "code",
   "execution_count": 70,
   "metadata": {
    "slideshow": {
     "slide_type": "slide"
    }
   },
   "outputs": [],
   "source": [
    "x = iris.petal_width\n",
    "y = iris.petal_length\n",
    "z = iris.species"
   ]
  },
  {
   "cell_type": "markdown",
   "metadata": {
    "slideshow": {
     "slide_type": "slide"
    }
   },
   "source": [
    "**Problem 5c** \n",
    "\n",
    "Export the iris data as a vtk file for ParaView. Include both the species *and* the four features as data for the vtk file. Finally, be sure to randomize the order of the data prior to writing the vtk file.\n",
    "\n",
    "*Hint 1* - convert the species to a numerical representation.\n",
    "\n",
    "*Hint 2* - you may find [`np.random.choice`](https://docs.scipy.org/doc/numpy/reference/generated/numpy.random.choice.html) helpful."
   ]
  },
  {
   "cell_type": "code",
   "execution_count": 75,
   "metadata": {
    "slideshow": {
     "slide_type": "slide"
    }
   },
   "outputs": [
    {
     "ename": "AssertionError",
     "evalue": "Argument must be a Numpy array",
     "output_type": "error",
     "traceback": [
      "\u001b[0;31m---------------------------------------------------------------------------\u001b[0m",
      "\u001b[0;31mAssertionError\u001b[0m                            Traceback (most recent call last)",
      "\u001b[0;32m<ipython-input-75-1ecb6da2b1ed>\u001b[0m in \u001b[0;36m<module>\u001b[0;34m()\u001b[0m\n\u001b[1;32m     20\u001b[0m \u001b[0msepal_length\u001b[0m\u001b[0;34m=\u001b[0m\u001b[0msepal_length\u001b[0m\u001b[0;34m[\u001b[0m\u001b[0mrandom\u001b[0m\u001b[0;34m]\u001b[0m\u001b[0;34m\u001b[0m\u001b[0m\n\u001b[1;32m     21\u001b[0m \u001b[0;34m\u001b[0m\u001b[0m\n\u001b[0;32m---> 22\u001b[0;31m \u001b[0mpointsToVTK\u001b[0m\u001b[0;34m(\u001b[0m\u001b[0;34m\"./iris\"\u001b[0m\u001b[0;34m,\u001b[0m \u001b[0mx\u001b[0m\u001b[0;34m,\u001b[0m\u001b[0my\u001b[0m\u001b[0;34m,\u001b[0m\u001b[0mz\u001b[0m\u001b[0;34m,\u001b[0m \u001b[0mdata\u001b[0m \u001b[0;34m=\u001b[0m \u001b[0;34m{\u001b[0m\u001b[0;34m\"petal_width\"\u001b[0m \u001b[0;34m:\u001b[0m \u001b[0mpetal_width\u001b[0m\u001b[0;34m,\u001b[0m \u001b[0;34m\"petal_length\"\u001b[0m \u001b[0;34m:\u001b[0m \u001b[0mpetal_length\u001b[0m\u001b[0;34m,\u001b[0m \u001b[0;34m\"sepal_length\"\u001b[0m \u001b[0;34m:\u001b[0m \u001b[0msepal_length\u001b[0m\u001b[0;34m,\u001b[0m \u001b[0;34m\"sepal_width\"\u001b[0m \u001b[0;34m:\u001b[0m \u001b[0msepal_width\u001b[0m\u001b[0;34m}\u001b[0m\u001b[0;34m)\u001b[0m\u001b[0;34m\u001b[0m\u001b[0m\n\u001b[0m\u001b[1;32m     23\u001b[0m             \u001b[0;31m# complete\u001b[0m\u001b[0;34m\u001b[0m\u001b[0;34m\u001b[0m\u001b[0m\n\u001b[1;32m     24\u001b[0m             \u001b[0;31m# complete\u001b[0m\u001b[0;34m\u001b[0m\u001b[0;34m\u001b[0m\u001b[0m\n",
      "\u001b[0;32m~/miniconda3/envs/DSFP/lib/python3.6/site-packages/pyevtk/hl.py\u001b[0m in \u001b[0;36mpointsToVTK\u001b[0;34m(path, x, y, z, data)\u001b[0m\n\u001b[1;32m    232\u001b[0m     \u001b[0mw\u001b[0m\u001b[0;34m.\u001b[0m\u001b[0mcloseElement\u001b[0m\u001b[0;34m(\u001b[0m\u001b[0;34m\"Cells\"\u001b[0m\u001b[0;34m)\u001b[0m\u001b[0;34m\u001b[0m\u001b[0m\n\u001b[1;32m    233\u001b[0m \u001b[0;34m\u001b[0m\u001b[0m\n\u001b[0;32m--> 234\u001b[0;31m     \u001b[0m_addDataToFile\u001b[0m\u001b[0;34m(\u001b[0m\u001b[0mw\u001b[0m\u001b[0;34m,\u001b[0m \u001b[0mcellData\u001b[0m \u001b[0;34m=\u001b[0m \u001b[0;32mNone\u001b[0m\u001b[0;34m,\u001b[0m \u001b[0mpointData\u001b[0m \u001b[0;34m=\u001b[0m \u001b[0mdata\u001b[0m\u001b[0;34m)\u001b[0m\u001b[0;34m\u001b[0m\u001b[0m\n\u001b[0m\u001b[1;32m    235\u001b[0m \u001b[0;34m\u001b[0m\u001b[0m\n\u001b[1;32m    236\u001b[0m     \u001b[0mw\u001b[0m\u001b[0;34m.\u001b[0m\u001b[0mclosePiece\u001b[0m\u001b[0;34m(\u001b[0m\u001b[0;34m)\u001b[0m\u001b[0;34m\u001b[0m\u001b[0m\n",
      "\u001b[0;32m~/miniconda3/envs/DSFP/lib/python3.6/site-packages/pyevtk/hl.py\u001b[0m in \u001b[0;36m_addDataToFile\u001b[0;34m(vtkFile, cellData, pointData)\u001b[0m\n\u001b[1;32m     42\u001b[0m         \u001b[0;32mfor\u001b[0m \u001b[0mkey\u001b[0m \u001b[0;32min\u001b[0m \u001b[0mkeys\u001b[0m\u001b[0;34m:\u001b[0m\u001b[0;34m\u001b[0m\u001b[0m\n\u001b[1;32m     43\u001b[0m             \u001b[0mdata\u001b[0m \u001b[0;34m=\u001b[0m \u001b[0mpointData\u001b[0m\u001b[0;34m[\u001b[0m\u001b[0mkey\u001b[0m\u001b[0;34m]\u001b[0m\u001b[0;34m\u001b[0m\u001b[0m\n\u001b[0;32m---> 44\u001b[0;31m             \u001b[0mvtkFile\u001b[0m\u001b[0;34m.\u001b[0m\u001b[0maddData\u001b[0m\u001b[0;34m(\u001b[0m\u001b[0mkey\u001b[0m\u001b[0;34m,\u001b[0m \u001b[0mdata\u001b[0m\u001b[0;34m)\u001b[0m\u001b[0;34m\u001b[0m\u001b[0m\n\u001b[0m\u001b[1;32m     45\u001b[0m         \u001b[0mvtkFile\u001b[0m\u001b[0;34m.\u001b[0m\u001b[0mcloseData\u001b[0m\u001b[0;34m(\u001b[0m\u001b[0;34m\"Point\"\u001b[0m\u001b[0;34m)\u001b[0m\u001b[0;34m\u001b[0m\u001b[0m\n\u001b[1;32m     46\u001b[0m \u001b[0;34m\u001b[0m\u001b[0m\n",
      "\u001b[0;32m~/miniconda3/envs/DSFP/lib/python3.6/site-packages/pyevtk/vtk.py\u001b[0m in \u001b[0;36maddData\u001b[0;34m(self, name, data)\u001b[0m\n\u001b[1;32m    386\u001b[0m                 \u001b[0;32massert\u001b[0m \u001b[0;32mFalse\u001b[0m\u001b[0;34m,\u001b[0m \u001b[0;34m\"Bad array shape: \"\u001b[0m \u001b[0;34m+\u001b[0m \u001b[0mstr\u001b[0m\u001b[0;34m(\u001b[0m\u001b[0mdata\u001b[0m\u001b[0;34m.\u001b[0m\u001b[0mshape\u001b[0m\u001b[0;34m)\u001b[0m\u001b[0;34m\u001b[0m\u001b[0m\n\u001b[1;32m    387\u001b[0m         \u001b[0;32melse\u001b[0m\u001b[0;34m:\u001b[0m\u001b[0;34m\u001b[0m\u001b[0m\n\u001b[0;32m--> 388\u001b[0;31m             \u001b[0;32massert\u001b[0m \u001b[0;32mFalse\u001b[0m\u001b[0;34m,\u001b[0m \u001b[0;34m\"Argument must be a Numpy array\"\u001b[0m\u001b[0;34m\u001b[0m\u001b[0m\n\u001b[0m\u001b[1;32m    389\u001b[0m \u001b[0;34m\u001b[0m\u001b[0m\n\u001b[1;32m    390\u001b[0m     \u001b[0;32mdef\u001b[0m \u001b[0mappendHeader\u001b[0m\u001b[0;34m(\u001b[0m\u001b[0mself\u001b[0m\u001b[0;34m,\u001b[0m \u001b[0mdtype\u001b[0m\u001b[0;34m,\u001b[0m \u001b[0mnelem\u001b[0m\u001b[0;34m,\u001b[0m \u001b[0mncomp\u001b[0m\u001b[0;34m)\u001b[0m\u001b[0;34m:\u001b[0m\u001b[0;34m\u001b[0m\u001b[0m\n",
      "\u001b[0;31mAssertionError\u001b[0m: Argument must be a Numpy array"
     ]
    }
   ],
   "source": [
    "virginica=np.where(z=='virginica')[0]\n",
    "setosa=np.where(z=='setosa')[0]\n",
    "versicolor=np.where(z=='versicolor')[0]\n",
    "species=np.zeros_like(z)\n",
    "species[setosa]=0\n",
    "species[versicolor]=1\n",
    "species[virginica]=2\n",
    "\n",
    "petal_width = iris.petal_width\n",
    "petal_length = iris.petal_length\n",
    "sepal_width = iris.sepal_width\n",
    "sepal_length = iris.sepal_length\n",
    "\n",
    "ordered=np.arange(0,len(species),1)\n",
    "random=np.random.choice(ordered, size=len(ordered), replace=False)\n",
    "species=species[random]\n",
    "petal_width=petal_width[random]\n",
    "petal_length=petal_length[random]\n",
    "sepal_width=sepal_width[random]\n",
    "sepal_length=sepal_length[random]\n",
    "\n",
    "pointsToVTK(\"./iris\", x,y,z, data = {\"petal_width\" : petal_width, \"petal_length\" : petal_length, \"sepal_length\" : sepal_length, \"sepal_width\" : sepal_width})\n",
    "            # complete\n",
    "            # complete\n",
    "            # complete\n",
    "            # complete\n",
    "            # complete"
   ]
  },
  {
   "cell_type": "markdown",
   "metadata": {
    "slideshow": {
     "slide_type": "slide"
    }
   },
   "source": [
    "**Problem 5d**\n",
    "\n",
    "Open the iris data in ParaView. Represent the points as point gaussians, and color the points based on their species."
   ]
  },
  {
   "cell_type": "markdown",
   "metadata": {
    "slideshow": {
     "slide_type": "slide"
    }
   },
   "source": [
    "Rotating the data on the screen - it is possible to get a better sense of the distance between versicolor and virginica classes. \n",
    "\n",
    "Now we will attempt to cluster the data."
   ]
  },
  {
   "cell_type": "markdown",
   "metadata": {
    "slideshow": {
     "slide_type": "slide"
    }
   },
   "source": [
    "**Problem 5e**\n",
    "\n",
    "Create a K means statistical filter for the data. [*Filters $\\rightarrow$ Statistics $\\rightarrow$ K means*]\n",
    "\n",
    "Remove species from the variable of interest (we don't want to cluster on the correct answer). Increase the training fraction to 0.5, and reduce the tolerance to 0. Then select *Apply*.\n",
    "\n",
    "Turn on the rendering of the Assessed Data (and turn off iris.vtu). Now color the data via ClosestId(0). \n",
    "\n",
    "How do your clusters compare to the correct answer? Can you improve on this initial attempt at clustering?"
   ]
  },
  {
   "cell_type": "markdown",
   "metadata": {
    "slideshow": {
     "slide_type": "slide"
    }
   },
   "source": [
    "**Solution to 5e**\n",
    "\n",
    "The clusters in this case look a little ridiculous. That is because we fixed $k = 5$. If we instead fit for 3 clusters, we find clusters that better resemble the true classifications, however there are still a number of misidentifications."
   ]
  },
  {
   "cell_type": "markdown",
   "metadata": {
    "slideshow": {
     "slide_type": "slide"
    }
   },
   "source": [
    "**Break Out Problem**\n",
    "\n",
    "Which visualization technique is to be preferred: `seaborn` or ParaView? \n",
    "\n",
    "[*spend a few minutes discussing with your neighbor*]"
   ]
  },
  {
   "cell_type": "markdown",
   "metadata": {
    "slideshow": {
     "slide_type": "slide"
    }
   },
   "source": [
    "**Problem 5f**\n",
    "\n",
    "Click the *+* symbol next to Layout #1. Select *Plot Matrix View*. Be sure that all 5 data values are selected, then click *Apply*. \n",
    "\n",
    "Now which method do you prefer?"
   ]
  },
  {
   "cell_type": "markdown",
   "metadata": {
    "slideshow": {
     "slide_type": "slide"
    }
   },
   "source": [
    "## Problem 6) Rendering Basic Astronomical Data"
   ]
  },
  {
   "cell_type": "markdown",
   "metadata": {
    "slideshow": {
     "slide_type": "slide"
    }
   },
   "source": [
    "If you have not already, download the files Density.vtk and Temperature.vtk from the [data repo](https://northwestern.box.com/s/6pzxkp11l9ffn33kahlvu8y9tf8tp0li). These data were generated as part of a cosmological simulation run by Pascal Paschos at Northwestern University.\n",
    "\n",
    "Note, you'll need to unpack the tarball\n",
    "\n",
    "    tar -zxvf pv_vtk.tar.gz"
   ]
  },
  {
   "cell_type": "markdown",
   "metadata": {
    "slideshow": {
     "slide_type": "slide"
    }
   },
   "source": [
    "**Problem 6a**\n",
    "\n",
    "Open the Density.vtk and Temperature.vtk files in ParaView.\n",
    "\n",
    "Select the \"eye\" next to Density to render the density information."
   ]
  },
  {
   "cell_type": "markdown",
   "metadata": {
    "slideshow": {
     "slide_type": "slide"
    }
   },
   "source": [
    "**Problem 6b**\n",
    "\n",
    "Change the representation to Volume. The structure in this data is more complicated than our previous examples, take a moment to explore the contents of the data cube."
   ]
  },
  {
   "cell_type": "markdown",
   "metadata": {
    "slideshow": {
     "slide_type": "slide"
    }
   },
   "source": [
    "**Problem 6c**\n",
    "\n",
    "Turn off the Density render, and turn on the Temperature render. Again, change the represenation to Volume. \n",
    "\n",
    "How does the density data compare to the temperature data?"
   ]
  },
  {
   "cell_type": "markdown",
   "metadata": {
    "slideshow": {
     "slide_type": "slide"
    }
   },
   "source": [
    "**Problem 6d**\n",
    "\n",
    "Change the colorbar for the Temperature. \n",
    "\n",
    "In the properties tab, under the Coloring header, select the choose presets folder (this is the folder with heart over it). \n",
    "\n",
    "Using your previous knowledge of visualization, select a terrible colorbar.\n",
    "\n",
    "Replace the terrible colorbar with a useful colorbar."
   ]
  },
  {
   "cell_type": "markdown",
   "metadata": {
    "slideshow": {
     "slide_type": "slide"
    }
   },
   "source": [
    "**Problem 6e**\n",
    "\n",
    "Change the colorbar for the Density data."
   ]
  },
  {
   "cell_type": "markdown",
   "metadata": {
    "slideshow": {
     "slide_type": "slide"
    }
   },
   "source": [
    "**Problem 6f**\n",
    "\n",
    "Render both the Temperature and Density data. \n",
    "\n",
    "Can you see both volume renditions? If not, adjust the color schemes for each until you can.\n",
    "\n"
   ]
  },
  {
   "cell_type": "markdown",
   "metadata": {
    "slideshow": {
     "slide_type": "slide"
    }
   },
   "source": [
    "## Problem 7) Slicing the Data Cube"
   ]
  },
  {
   "cell_type": "markdown",
   "metadata": {
    "slideshow": {
     "slide_type": "slide"
    }
   },
   "source": [
    "**Problem 7a**\n",
    "\n",
    "Select the density data. Then slice the data using the tool in the top bar. When happy with the slice that you have selected, click \"apply\".\n",
    "\n",
    "*Note* - you can adjust the position of the slice by dragging the outline, and you can adjust the angle of the slice with the arrow."
   ]
  },
  {
   "cell_type": "markdown",
   "metadata": {
    "slideshow": {
     "slide_type": "slide"
    }
   },
   "source": [
    "**Problem 7b**\n",
    "\n",
    "Hide the density and temperature data, and examine the slice. If you are unhappy with your previous selection, adjust it."
   ]
  },
  {
   "cell_type": "markdown",
   "metadata": {
    "slideshow": {
     "slide_type": "slide"
    }
   },
   "source": [
    "**Problem 7c**\n",
    "\n",
    "Add a contour to the slice. This can be done using the contour button (multiple concentric half-spheres).\n",
    "\n",
    "Set the range for the contours from -2 to 2.5, and choose 6 steps for the contours. If you need to, adjust the color of the contours so they are visible relative to the background colors."
   ]
  },
  {
   "cell_type": "markdown",
   "metadata": {
    "slideshow": {
     "slide_type": "slide"
    }
   },
   "source": [
    "**Problem 7d**\n",
    "\n",
    "Add a clip to the temperature data. This can be done using the clip button (between the slice and contour buttons).\n",
    "\n",
    "Adjust the position of the clip to match that of the density contour.\n",
    "\n",
    "*Note* - you may need to slide the position of the clip slightly so that the contours remain visible."
   ]
  },
  {
   "cell_type": "markdown",
   "metadata": {
    "slideshow": {
     "slide_type": "slide"
    }
   },
   "source": [
    "**Problem 7e**\n",
    "\n",
    "Rotate the slice + clip to an angle of your choosing. Then save your rendering of the data to a png file.\n",
    "\n",
    "**Warning** - in some instances on my machine this lead to ParaView crashing, be sure you have everything set up as you would like prior to exporting to png."
   ]
  },
  {
   "cell_type": "markdown",
   "metadata": {
    "slideshow": {
     "slide_type": "slide"
    }
   },
   "source": [
    "Finally, in closing, I will note that it is possible in ParaView to export your rendering to `x3dom`, which is a format accepted by AAS journals to include interactive 3d plots in publications."
   ]
  },
  {
   "cell_type": "markdown",
   "metadata": {
    "slideshow": {
     "slide_type": "slide"
    }
   },
   "source": [
    "## Challenge Problem"
   ]
  },
  {
   "cell_type": "markdown",
   "metadata": {
    "slideshow": {
     "slide_type": "slide"
    }
   },
   "source": [
    "Convert the data that your brought with you to the DSFP into a ParaView readable vtk format. "
   ]
  }
 ],
 "metadata": {
  "celltoolbar": "Slideshow",
  "kernelspec": {
   "display_name": "Python 3",
   "language": "python",
   "name": "python3"
  },
  "language_info": {
   "codemirror_mode": {
    "name": "ipython",
    "version": 3
   },
   "file_extension": ".py",
   "mimetype": "text/x-python",
   "name": "python",
   "nbconvert_exporter": "python",
   "pygments_lexer": "ipython3",
   "version": "3.6.3"
  }
 },
 "nbformat": 4,
 "nbformat_minor": 2
}
